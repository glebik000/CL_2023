{
  "nbformat": 4,
  "nbformat_minor": 0,
  "metadata": {
    "colab": {
      "provenance": [],
      "collapsed_sections": [
        "_CTKumuZGBRG"
      ],
      "include_colab_link": true
    },
    "kernelspec": {
      "name": "python3",
      "display_name": "Python 3"
    },
    "language_info": {
      "name": "python"
    }
  },
  "cells": [
    {
      "cell_type": "markdown",
      "metadata": {
        "id": "view-in-github",
        "colab_type": "text"
      },
      "source": [
        "<a href=\"https://colab.research.google.com/github/glebik000/CL_2023/blob/main/CL1.ipynb\" target=\"_parent\"><img src=\"https://colab.research.google.com/assets/colab-badge.svg\" alt=\"Open In Colab\"/></a>"
      ]
    },
    {
      "cell_type": "code",
      "execution_count": 33,
      "metadata": {
        "id": "KoCCGpucZ8gu"
      },
      "outputs": [],
      "source": [
        "import requests \n",
        "from bs4 import BeautifulSoup \n",
        "import re \n",
        "import time\n",
        "import datetime"
      ]
    },
    {
      "cell_type": "markdown",
      "source": [
        "# Киберленинка"
      ],
      "metadata": {
        "id": "_CTKumuZGBRG"
      }
    },
    {
      "cell_type": "code",
      "source": [
        "domain = \"https://cyberleninka.ru\"\n",
        "searchAPI = \"https://cyberleninka.ru/api/search\"\n",
        "head = {\n",
        "  \"Origin\": \"https://cyberleninka.ru\",\n",
        "  \"Referer\": \"https://cyberleninka.ru/search?q=%D0%98%D1%81%D0%BA%D1%83%D1%81%D1%82%D0%B2%D0%B5%D0%BD%D0%BD%D1%8B%D0%B9%20%D0%B8%D0%BD%D1%82%D0%B5%D0%BB%D0%BB%D0%B5%D0%BA%D1%82&page=1\",\n",
        "\n",
        "  \"User-Agent\": \"Mozilla/5.0 (Macintosh; Intel Mac OS X 10_15_7) AppleWebKit/537.36 (KHTML, like Gecko) Chrome/113.0.0.0 Safari/537.36\",\n",
        "  \"sec-ch-ua\": \"\\\"Google Chrome\\\";v=\\\"113\\\", \\\"Chromium\\\";v=\\\"113\\\", \\\"Not-A.Brand\\\";v=\\\"24\\\"\",\n",
        "  \"sec-ch-ua-mobile\": \"?0\",\n",
        "  \"sec-ch-ua-platform\": \"macOS\",\n",
        "}\n",
        "\n",
        "site = \"https://cyberleninka.ru/\"\n",
        "request = \"search?q=%D0%98%D1%81%D0%BA%D1%83%D1%81%D1%82%D0%B2%D0%B5%D0%BD%D0%BD%D1%8B%D0%B9%20%D0%B8%D0%BD%D1%82%D0%B5%D0%BB%D0%BB%D0%B5%D0%BA%D1%82&\"\n",
        "page = \"page=\""
      ],
      "metadata": {
        "id": "R9mXcJxwhJUt"
      },
      "execution_count": null,
      "outputs": []
    },
    {
      "cell_type": "code",
      "source": [],
      "metadata": {
        "id": "f_CZF_Lko0E5"
      },
      "execution_count": null,
      "outputs": []
    },
    {
      "cell_type": "code",
      "source": [
        "resp = requests.post(searchAPI, headers=head)\n",
        "# resp.text"
      ],
      "metadata": {
        "id": "8q77x4aUmVvo"
      },
      "execution_count": null,
      "outputs": []
    },
    {
      "cell_type": "code",
      "source": [
        "resp = requests.post(\"https://cyberleninka.ru/search?q=%D0%98%D1%81%D0%BA%D1%83%D1%81%D1%82%D0%B2%D0%B5%D0%BD%D0%BD%D1%8B%D0%B9%20%D0%B8%D0%BD%D1%82%D0%B5%D0%BB%D0%BB%D0%B5%D0%BA%D1%82&page=1\")\n",
        "resp.text"
      ],
      "metadata": {
        "colab": {
          "base_uri": "https://localhost:8080/",
          "height": 1000
        },
        "id": "JqiXWzfomc3G",
        "outputId": "ca721d80-a862-47c7-e6b6-45e7c56e60ec"
      },
      "execution_count": null,
      "outputs": [
        {
          "output_type": "execute_result",
          "data": {
            "text/plain": [
              "'<!DOCTYPE html PUBLIC \"-//W3C//DTD XHTML 1.1//EN\" \"http://www.w3.org/TR/xhtml11/DTD/xhtml11.dtd\">\\n<html xmlns=\"http://www.w3.org/1999/xhtml\">\\n  <head>\\n    <meta http-equiv=\"Content-Type\" content=\"text/html; charset=utf-8\" />\\n    <meta name=\"viewport\" content=\"width=device-width, initial-scale=1\" />\\n    <meta name=\"format-detection\" content=\"telephone=no\" />\\n    <link rel=\"shortcut icon\" href=\"/favicon.ico\" type=\"image/x-icon\" />\\n    <link rel=\"canonical\" href=\"https://cyberleninka.ru/search?q=%D0%98%D1%81%D0%BA%D1%83%D1%81%D1%82%D0%B2%D0%B5%D0%BD%D0%BD%D1%8B%D0%B9%20%D0%B8%D0%BD%D1%82%D0%B5%D0%BB%D0%BB%D0%B5%D0%BA%D1%82&amp;page=1\" />\\n\\n    <title>Поиск научной информации в электронной библиотеке КиберЛенинка.</title>\\n    <meta name=\"keywords\" content=\"научный поиск научная информация поиск научной статьи и журнала литературы\" />\\n    <meta name=\"description\" content=\"Научная поисковая система по электронной библиотеке КиберЛенинка.\" />\\n\\n    <link rel=\"stylesheet\" media=\"all\" href=\"/app.css?2204636507\" />\\n    <link rel=\"preload\" href=\"/fonts/ProximaNovaBold.woff2\" as=\"font\" type=\"font/woff2\" crossorigin>\\n    <link rel=\"preload\" href=\"/fonts/ProximaNovaRegular.woff2\" as=\"font\" type=\"font/woff2\" crossorigin>\\n    <link rel=\"preload\" href=\"/fonts/ProximaNovaExtraCondensedLight.woff2\" as=\"font\" type=\"font/woff2\" crossorigin>\\n    \\n  <meta name=\"apple-mobile-web-app-capable\" content=\"yes\" />\\n\\n  <meta name=\"robots\" content=\"NOODP\" />\\n  <meta name=\"robots\" content=\"noyaca\" />\\n\\n  <meta property=\"og:url\" content=\"https://cyberleninka.ru/search?q=%D0%98%D1%81%D0%BA%D1%83%D1%81%D1%82%D0%B2%D0%B5%D0%BD%D0%BD%D1%8B%D0%B9%20%D0%B8%D0%BD%D1%82%D0%B5%D0%BB%D0%BB%D0%B5%D0%BA%D1%82&amp;page=1\" />\\n  <meta property=\"og:site_name\" content=\"КиберЛенинка\" />\\n  <meta property=\"og:title\" content=\"Поиск научной информации в электронной библиотеке КиберЛенинка.\" />\\n  <meta property=\"og:description\" content=\"Научная поисковая система по электронной библиотеке КиберЛенинка.\" />\\n  <meta property=\"og:type\" content=\"website\" />\\n  <meta property=\"og:image\" content=\"https://cyberleninka.ru/images/og/4.jpg\" />\\n  <meta property=\"og:image:width\" content=\"1074\" />\\n  <meta property=\"og:image:height\" content=\"480\" />\\n\\n  <meta name=\"twitter:card\" content=\"summary_large_image\" />\\n  <meta name=\"twitter:site\" content=\"@CyberLeninka\" />\\n\\n    \\n\\n<link rel=\"preconnect\" href=\"https://yastatic.net\">\\n<link rel=\"preconnect\" href=\"https://securepubads.g.doubleclick.net\">\\n<link rel=\"preconnect\" href=\"https://exchange.buzzoola.com\">\\n<link rel=\"preconnect\" href=\"https://pb.adriver.ru\">\\n<link rel=\"preconnect\" href=\"https://ad.mail.ru\">\\n<link rel=\"preconnect\" href=\"https://ads.betweendigital.com\">\\n<script src=\"https://yandex.ru/ads/system/header-bidding.js\" async></script>\\n<script>window.yaContextCb = window.yaContextCb || []</script>\\n<script src=\"https://yandex.ru/ads/system/context.js\" async></script>\\n<script src=\"https://content.adriver.ru/AdRiverFPS.js\" async></script>\\n<script>\\nconst adfoxBiddersMap = {\\n    \"myTarget\": \"763128\",\\n    \"betweenDigital\": \"793538\",\\n    \"adriver\": \"776589\",\\n    \"relap\": \"958503\",\\n    \"otm\": \"1460822\",\\n    \"getintent\": \"958501\",\\n    \"buzzoola\": \"769160\",\\n    \"segmento\": \"1458193\",\\n    \"sape\": \"1697231\",\\n    \"mediasniper\": \"2297743\",\\n    \"mediatoday\": \"2365797\"    \\n};\\n\\nif (window.innerWidth >= 768) {\\n  adUnits = [\\n      {\\n          \"code\": \"adfox_head\",\\n          \"sizes\": [\\n              [\\n                  970,\\n                  250\\n              ]\\n          ],\\n          \"bids\": [\\n              {\\n                  \"bidder\": \"myTarget\",\\n                  \"params\": {\\n                      \"placementId\": 320990\\n                  }\\n              },\\n              {\\n                  \"bidder\": \"betweenDigital\",\\n                  \"params\": {\\n                      \"placementId\": 2674177\\n                  }\\n              },\\n              {\\n                  \"bidder\": \"adriver\",\\n                  \"params\": {\\n                      \"placementId\": \"20:cyberleninka_970x250\",\\n                      \"additional\": {\"ext\": {\"query\": \"custom=10=20&cid=\" + localStorage.getItem(\\'adrcid\\')}}\\n                  }\\n              },\\n              {\\n                  \"bidder\": \"relap\",\\n                  \"params\": {\\n                      \"placementId\": \"Yp1iKekphZ5k2AgI\"\\n                  }\\n              },\\n              {\\n                  \"bidder\": \"otm\",\\n                  \"params\": {\\n                      \"placementId\": \"911\"\\n                  }\\n              },\\n              {\\n                  \"bidder\": \"getintent\",\\n                  \"params\": {\\n                      \"placementId\": \"134_cyberleninka.ru_desktop_adfox_head_970x250\"\\n                  }\\n              },\\n              {\\n                  \"bidder\": \"buzzoola\",\\n                  \"params\": {\\n                      \"placementId\": 1221042\\n                  }\\n              },\\n              {\\n                  \"bidder\": \"segmento\",\\n                  \"params\": {\\n                      \"placementId\": 212\\n                  }\\n              },\\n              {\\n                  \"bidder\": \"sape\",\\n                  \"params\": {\"placementId\": 821135}\\n              },\\n              {\\n                  \"bidder\": \"mediasniper\",\\n                  \"params\": {\"placementId\": 360005}\\n              }       \\n          ]\\n      },\\n      {\\n          \"code\": \"adfox_side1\",\\n          \"sizes\": [\\n              [\\n                  300,\\n                  600\\n              ]\\n          ],\\n          \"bids\": [\\n              {\\n                  \"bidder\": \"myTarget\",\\n                  \"params\": {\\n                      \"placementId\": 320974\\n                  }\\n              },\\n              {\\n                  \"bidder\": \"betweenDigital\",\\n                  \"params\": {\\n                      \"placementId\": 2673847\\n                  }\\n              },\\n              {\\n                  \"bidder\": \"adriver\",\\n                  \"params\": {\\n                      \"placementId\": \"20:cyberleninka_240x400_side1\",\\n                      \"additional\": {\"ext\": {\"query\": \"custom=10=20&cid=\" + localStorage.getItem(\\'adrcid\\')}},\\n                  }\\n              },\\n              {\\n                  \"bidder\": \"relap\",\\n                  \"params\": {\\n                      \"placementId\": \"IvPzS2uqiXOJRUVF\"\\n                  }\\n              },\\n              {\\n                  \"bidder\": \"otm\",\\n                  \"params\": {\\n                      \"placementId\": \"912\"\\n                  }\\n              },\\n              {\\n                  \"bidder\": \"getintent\",\\n                  \"params\": {\\n                      \"placementId\": \"134_cyberleninka.ru_desktop_adfox_side1_300x600\"\\n                  }\\n              },\\n              {\\n                  \"bidder\": \"buzzoola\",\\n                  \"params\": {\\n                      \"placementId\": 1221043\\n                  }\\n              },\\n              {\\n                  \"bidder\": \"segmento\",\\n                  \"params\": {\\n                      \"placementId\": 213\\n                  }\\n              },\\n              {\\n                  \"bidder\": \"sape\",\\n                  \"params\": {\"placementId\": 821136}\\n              },\\n              {\\n                  \"bidder\": \"mediasniper\",\\n                  \"params\": {\"placementId\": 360006}\\n              },\\n              {\\n                  \"bidder\": \"mediatoday\",\\n                  \"params\": {\"placementId\": 9682}\\n              }\\n          ]\\n      },\\n      {\\n          \"code\": \"adfox_side2\",\\n          \"sizes\": [\\n              [\\n                  300,\\n                  600\\n              ]\\n          ],\\n          \"bids\": [\\n              {\\n                  \"bidder\": \"myTarget\",\\n                  \"params\": {\\n                      \"placementId\": 320975\\n                  }\\n              },\\n              {\\n                  \"bidder\": \"betweenDigital\",\\n                  \"params\": {\\n                      \"placementId\": 2673848\\n                  }\\n              },\\n              {\\n                  \"bidder\": \"adriver\",\\n                  \"params\": {\\n                      \"placementId\": \"20:cyberleninka_240x400_side2\",\\n                      \"additional\": {\"ext\": {\"query\": \"custom=10=20&cid=\" + localStorage.getItem(\\'adrcid\\')}},\\n                  }\\n              },\\n              {\\n                  \"bidder\": \"relap\",\\n                  \"params\": {\\n                      \"placementId\": \"xjnGHd0db3SOEMLC\"\\n                  }\\n              },\\n              {\\n                  \"bidder\": \"otm\",\\n                  \"params\": {\\n                      \"placementId\": \"913\"\\n                  }\\n              },\\n              {\\n                  \"bidder\": \"getintent\",\\n                  \"params\": {\\n                      \"placementId\": \"134_cyberleninka.ru_desktop_adfox_side2_300x600\"\\n                  }\\n              },\\n              {\\n                  \"bidder\": \"buzzoola\",\\n                  \"params\": {\\n                      \"placementId\": 1221044\\n                  }\\n              },\\n              {\\n                  \"bidder\": \"segmento\",\\n                  \"params\": {\\n                      \"placementId\": 214\\n                  }\\n              },\\n              {\\n                  \"bidder\": \"sape\",\\n                  \"params\": {\"placementId\": 821138}\\n              },\\n              {\\n                  \"bidder\": \"mediasniper\",\\n                  \"params\": {\"placementId\": 360007}\\n              },\\n              {\\n                  \"bidder\": \"mediatoday\",\\n                  \"params\": {\"placementId\": 9682}\\n              }\\n          ]\\n      },\\n      {\\n          \"code\": \"adfox_top1\",\\n          \"sizes\": [\\n              [\\n                  300,\\n                  250\\n              ]\\n          ],\\n          \"bids\": [\\n              {\\n                  \"bidder\": \"myTarget\",\\n                  \"params\": {\\n                      \"placementId\": 320978\\n                  }\\n              },\\n              {\\n                  \"bidder\": \"betweenDigital\",\\n                  \"params\": {\\n                      \"placementId\": 2673849\\n                  }\\n              },\\n              {\\n                  \"bidder\": \"adriver\",\\n                  \"params\": {\\n                      \"placementId\": \"20:cyberleninka_300x250_1\",\\n                      \"additional\": {\"ext\": {\"query\": \"custom=10=20&cid=\" + localStorage.getItem(\\'adrcid\\')}},\\n                  }\\n              },\\n              {\\n                  \"bidder\": \"relap\",\\n                  \"params\": {\\n                      \"placementId\": \"mGeYUpJSanGLjVlZ\"\\n                  }\\n              },\\n              {\\n                  \"bidder\": \"otm\",\\n                  \"params\": {\\n                      \"placementId\": \"914\"\\n                  }\\n              },\\n              {\\n                  \"bidder\": \"getintent\",\\n                  \"params\": {\\n                      \"placementId\": \"134_cyberleninka.ru_desktop_adfox_top1_300x250\"\\n                  }\\n              },\\n              {\\n                  \"bidder\": \"buzzoola\",\\n                  \"params\": {\\n                      \"placementId\": 1221045\\n                  }\\n              },\\n              {\\n                  \"bidder\": \"segmento\",\\n                  \"params\": {\\n                      \"placementId\": 215\\n                  }\\n              },\\n              {\\n                  \"bidder\": \"sape\",\\n                  \"params\": {\"placementId\": 821140}\\n              },\\n              {\\n                  \"bidder\": \"mediasniper\",\\n                  \"params\": {\"placementId\": 360008}\\n              },\\n              {\\n                  \"bidder\": \"mediatoday\",\\n                  \"params\": {\"placementId\": 9675}\\n              }\\n          ]\\n      },\\n      {\\n          \"code\": \"adfox_top2\",\\n          \"sizes\": [\\n              [\\n                  300,\\n                  250\\n              ]\\n          ],\\n          \"bids\": [\\n              {\\n                  \"bidder\": \"myTarget\",\\n                  \"params\": {\\n                      \"placementId\": 320979\\n                  }\\n              },\\n              {\\n                  \"bidder\": \"betweenDigital\",\\n                  \"params\": {\\n                      \"placementId\": 2673850\\n                  }\\n              },\\n              {\\n                  \"bidder\": \"relap\",\\n                  \"params\": {\\n                      \"placementId\": \"VIeHbEyN6xHr4uLi \"\\n                  }\\n              },\\n              {\\n                  \"bidder\": \"otm\",\\n                  \"params\": {\\n                      \"placementId\": \"915\"\\n                  }\\n              },\\n              {\\n                  \"bidder\": \"getintent\",\\n                  \"params\": {\\n                      \"placementId\": \"134_cyberleninka.ru_desktop_adfox_top2_300x250\"\\n                  }\\n              },\\n              {\\n                  \"bidder\": \"buzzoola\",\\n                  \"params\": {\\n                      \"placementId\": 1221046\\n                  }\\n              },\\n              {\\n                  \"bidder\": \"segmento\",\\n                  \"params\": {\\n                      \"placementId\": 216\\n                  }\\n              },\\n              {\\n                  \"bidder\": \"sape\",\\n                  \"params\": {\"placementId\": 821142}\\n              },\\n              {\\n                  \"bidder\": \"mediasniper\",\\n                  \"params\": {\"placementId\": 360009}\\n              },\\n              {\\n                  \"bidder\": \"mediatoday\",\\n                  \"params\": {\"placementId\": 9676}\\n              }\\n          ]\\n      },\\n      {\\n          \"code\": \"adfox_mid1\",\\n          \"sizes\": [\\n              [\\n                  300,\\n                  250\\n              ]\\n          ],\\n          \"bids\": [\\n              {\\n                  \"bidder\": \"myTarget\",\\n                  \"params\": {\\n                      \"placementId\": 320982\\n                  }\\n              },\\n              {\\n                  \"bidder\": \"betweenDigital\",\\n                  \"params\": {\\n                      \"placementId\": 2673851\\n                  }\\n              },\\n              {\\n                  \"bidder\": \"relap\",\\n                  \"params\": {\\n                      \"placementId\": \"d6KiiqprV61XoKCg\"\\n                  }\\n              },\\n              {\\n                  \"bidder\": \"otm\",\\n                  \"params\": {\\n                      \"placementId\": \"916\"\\n                  }\\n              },\\n              {\\n                  \"bidder\": \"getintent\",\\n                  \"params\": {\\n                      \"placementId\": \"134_cyberleninka.ru_desktop_adfox_mid1_300x250\"\\n                  }\\n              },\\n              {\\n                  \"bidder\": \"buzzoola\",\\n                  \"params\": {\\n                      \"placementId\": 1221047\\n                  }\\n              },\\n              {\\n                  \"bidder\": \"segmento\",\\n                  \"params\": {\\n                      \"placementId\": 217\\n                  }\\n              },\\n              {\\n                  \"bidder\": \"sape\",\\n                  \"params\": {\"placementId\": 821143}\\n              },\\n              {\\n                  \"bidder\": \"mediasniper\",\\n                  \"params\": {\"placementId\": 360010}\\n              },\\n              {\\n                  \"bidder\": \"mediatoday\",\\n                  \"params\": {\"placementId\": 9677}\\n              }\\n          ]\\n      },\\n      {\\n          \"code\": \"adfox_mid2\",\\n          \"sizes\": [\\n              [\\n                  300,\\n                  250\\n              ]\\n          ],\\n          \"bids\": [\\n              {\\n                  \"bidder\": \"myTarget\",\\n                  \"params\": {\\n                      \"placementId\": 320983\\n                  }\\n              },\\n              {\\n                  \"bidder\": \"betweenDigital\",\\n                  \"params\": {\\n                      \"placementId\": 2673852\\n                  }\\n              },\\n              {\\n                  \"bidder\": \"relap\",\\n                  \"params\": {\\n                      \"placementId\": \"AP8AzAzMWUK4WI6O\"\\n                  }\\n              },\\n              {\\n                  \"bidder\": \"otm\",\\n                  \"params\": {\\n                      \"placementId\": \"917\"\\n                  }\\n              },\\n              {\\n                  \"bidder\": \"getintent\",\\n                  \"params\": {\\n                      \"placementId\": \"134_cyberleninka.ru_desktop_adfox_mid2_300x250\"\\n                  }\\n              },\\n              {\\n                  \"bidder\": \"buzzoola\",\\n                  \"params\": {\\n                      \"placementId\": 1221048\\n                  }\\n              },\\n              {\\n                  \"bidder\": \"segmento\",\\n                  \"params\": {\\n                      \"placementId\": 218\\n                  }\\n              },\\n              {\\n                  \"bidder\": \"sape\",\\n                  \"params\": {\"placementId\": 821144}\\n              },\\n              {\\n                  \"bidder\": \"mediasniper\",\\n                  \"params\": {\"placementId\": 360011}\\n              },\\n              {\\n                  \"bidder\": \"mediatoday\",\\n                  \"params\": {\"placementId\": 9678}\\n              }\\n          ]\\n      },\\n      {\\n          \"code\": \"adfox_bot1\",\\n          \"sizes\": [\\n              [\\n                  300,\\n                  250\\n              ]\\n          ],\\n          \"bids\": [\\n              {\\n                  \"bidder\": \"myTarget\",\\n                  \"params\": {\\n                      \"placementId\": 320985\\n                  }\\n              },\\n              {\\n                  \"bidder\": \"betweenDigital\",\\n                  \"params\": {\\n                      \"placementId\": 2673854\\n                  }\\n              },\\n              {\\n                  \"bidder\": \"relap\",\\n                  \"params\": {\\n                      \"placementId\": \"n2CfFdUVkYpw9Cws\"\\n                  }\\n              },\\n              {\\n                  \"bidder\": \"otm\",\\n                  \"params\": {\\n                      \"placementId\": \"918\"\\n                  }\\n              },\\n              {\\n                  \"bidder\": \"getintent\",\\n                  \"params\": {\\n                      \"placementId\": \"134_cyberleninka.ru_desktop_adfox_bot1_300x250\"\\n                  }\\n              },\\n              {\\n                  \"bidder\": \"buzzoola\",\\n                  \"params\": {\\n                      \"placementId\": 1221049\\n                  }\\n              },\\n              {\\n                  \"bidder\": \"segmento\",\\n                  \"params\": {\\n                      \"placementId\": 219\\n                  }\\n              },\\n              {\\n                  \"bidder\": \"sape\",\\n                  \"params\": {\"placementId\": 821145}\\n              },\\n              {\\n                  \"bidder\": \"mediasniper\",\\n                  \"params\": {\"placementId\": 360012}\\n              },\\n              {\\n                  \"bidder\": \"mediatoday\",\\n                  \"params\": {\"placementId\": 9679}\\n              }\\n          ]\\n      },\\n      {\\n          \"code\": \"adfox_bot2\",\\n          \"sizes\": [\\n              [\\n                  300,\\n                  250\\n              ]\\n          ],\\n          \"bids\": [\\n              {\\n                  \"bidder\": \"myTarget\",\\n                  \"params\": {\\n                      \"placementId\": 320988\\n                  }\\n              },\\n              {\\n                  \"bidder\": \"betweenDigital\",\\n                  \"params\": {\\n                      \"placementId\": 2673853\\n                  }\\n              },\\n              {\\n                  \"bidder\": \"relap\",\\n                  \"params\": {\\n                      \"placementId\": \"FMPDg6NiNc81-Pj4\"\\n                  }\\n              },\\n              {\\n                  \"bidder\": \"otm\",\\n                  \"params\": {\\n                      \"placementId\": \"919\"\\n                  }\\n              },\\n              {\\n                  \"bidder\": \"getintent\",\\n                  \"params\": {\\n                      \"placementId\": \"134_cyberleninka.ru_desktop_adfox_bot2_300x250\"\\n                  }\\n              },\\n              {\\n                  \"bidder\": \"buzzoola\",\\n                  \"params\": {\\n                      \"placementId\": 1221050\\n                  }\\n              },\\n              {\\n                  \"bidder\": \"segmento\",\\n                  \"params\": {\\n                      \"placementId\": 220\\n                  }\\n              },\\n              {\\n                  \"bidder\": \"sape\",\\n                  \"params\": {\"placementId\": 821146}\\n              },\\n              {\\n                  \"bidder\": \"mediasniper\",\\n                  \"params\": {\"placementId\": 360013}\\n              },\\n              {\\n                  \"bidder\": \"mediatoday\",\\n                  \"params\": {\"placementId\": 9680}\\n              }\\n          ]\\n      }\\n  ];\\n\\n  var userTimeout = 1200;\\n\\n  window.YaHeaderBiddingSettings = {\\n    biddersMap: adfoxBiddersMap,\\n    adUnits: adUnits,\\n    timeout: userTimeout\\n  };\\n} else {\\n  adUnits = [\\n      {\\n          \"code\": \"adfox_top1\",\\n          \"sizes\": [\\n              [\\n                  300,\\n                  250\\n              ]\\n          ],\\n          \"bids\": [\\n              {\\n                  \"bidder\": \"myTarget\",\\n                  \"params\": {\\n                      \"placementId\": 320966\\n                  }\\n              },\\n              {\\n                  \"bidder\": \"betweenDigital\",\\n                  \"params\": {\\n                      \"placementId\": 2673855\\n                  }\\n              },\\n              {\\n                  \"bidder\": \"adriver\",\\n                  \"params\": {\\n                      \"placementId\": \"20:cyberleninka_300x250mob_1\",\\n                      \"additional\": {\"ext\": {\"query\": \"custom=10=20&cid=\" + localStorage.getItem(\\'adrcid\\')}},\\n                  }\\n              },\\n              {\\n                  \"bidder\": \"relap\",\\n                  \"params\": {\\n                      \"placementId\": \"3CPcIuIiytEraKam\"\\n                  }\\n              },\\n              {\\n                  \"bidder\": \"otm\",\\n                  \"params\": {\\n                      \"placementId\": \"907\"\\n                  }\\n              },\\n              {\\n                  \"bidder\": \"getintent\",\\n                  \"params\": {\\n                      \"placementId\": \"134_cyberleninka.ru_mobile_adfox_mob1_300x250\"\\n                  }\\n              },\\n              {\\n                  \"bidder\": \"buzzoola\",\\n                  \"params\": {\\n                      \"placementId\": 1221037\\n                  }\\n              },\\n              {\\n                  \"bidder\": \"segmento\",\\n                  \"params\": {\\n                      \"placementId\": 208\\n                  }\\n              },\\n              {\\n                  \"bidder\": \"sape\",\\n                  \"params\": {\"placementId\": 821190}\\n              },\\n              {\\n                  \"bidder\": \"mediasniper\",\\n                  \"params\": {\"placementId\": 360001}\\n              },\\n              {\\n                  \"bidder\": \"mediatoday\",\\n                  \"params\": {\"placementId\": 9671}\\n              }\\n          ]\\n      },\\n      {\\n          \"code\": \"adfox_mid1\",\\n          \"sizes\": [\\n              [\\n                  300,\\n                  250\\n              ]\\n          ],\\n          \"bids\": [\\n              {\\n                  \"bidder\": \"myTarget\",\\n                  \"params\": {\\n                      \"placementId\": 320968\\n                  }\\n              },\\n              {\\n                  \"bidder\": \"betweenDigital\",\\n                  \"params\": {\\n                      \"placementId\": 2673856\\n                  }\\n              },\\n              {\\n                  \"bidder\": \"adriver\",\\n                  \"params\": {\\n                      \"placementId\": \"20:cyberleninka_300x250mob_2\",\\n                      \"additional\": {\"ext\": {\"query\": \"custom=10=20&cid=\" + localStorage.getItem(\\'adrcid\\')}},\\n                  }\\n              },\\n              {\\n                  \"bidder\": \"relap\",\\n                  \"params\": {\\n                      \"placementId\": \"IO3tt5dW0SvRU1NT\"\\n                  }\\n              },\\n              {\\n                  \"bidder\": \"otm\",\\n                  \"params\": {\\n                      \"placementId\": \"908\"\\n                  }\\n              },\\n              {\\n                  \"bidder\": \"getintent\",\\n                  \"params\": {\\n                      \"placementId\": \"134_cyberleninka.ru_mobile_adfox_mob2_300x250\"\\n                  }\\n              },\\n              {\\n                  \"bidder\": \"buzzoola\",\\n                  \"params\": {\\n                      \"placementId\": 1221039\\n                  }\\n              },\\n              {\\n                  \"bidder\": \"segmento\",\\n                  \"params\": {\\n                      \"placementId\": 209\\n                  }\\n              },\\n              {\\n                  \"bidder\": \"sape\",\\n                  \"params\": {\"placementId\": 821191}\\n              },\\n              {\\n                  \"bidder\": \"mediasniper\",\\n                  \"params\": {\"placementId\": 360002}\\n              },\\n              {\\n                  \"bidder\": \"mediatoday\",\\n                  \"params\": {\"placementId\": 9672}\\n              }\\n          ]\\n      },\\n      {\\n          \"code\": \"adfox_bot1\",\\n          \"sizes\": [\\n              [\\n                  300,\\n                  250\\n              ]\\n          ],\\n          \"bids\": [\\n              {\\n                  \"bidder\": \"myTarget\",\\n                  \"params\": {\\n                      \"placementId\": 320969\\n                  }\\n              },\\n              {\\n                  \"bidder\": \"betweenDigital\",\\n                  \"params\": {\\n                      \"placementId\": 2673857\\n                  }\\n              },\\n              {\\n                  \"bidder\": \"adriver\",\\n                  \"params\": {\\n                      \"placementId\": \"20:cyberleninka_300x250mob_3\",\\n                      \"additional\": {\"ext\": {\"query\": \"custom=10=20&cid=\" + localStorage.getItem(\\'adrcid\\')}},\\n                  }\\n              },\\n              {\\n                  \"bidder\": \"relap\",\\n                  \"params\": {\\n                      \"placementId\": \"T7BPrGysPSbc4S0t\"\\n                  }\\n              },\\n              {\\n                  \"bidder\": \"otm\",\\n                  \"params\": {\\n                      \"placementId\": \"909\"\\n                  }\\n              },\\n              {\\n                  \"bidder\": \"getintent\",\\n                  \"params\": {\\n                      \"placementId\": \"134_cyberleninka.ru_mobile_adfox_mob3_300x250\"\\n                  }\\n              },\\n              {\\n                  \"bidder\": \"buzzoola\",\\n                  \"params\": {\\n                      \"placementId\": 1221040\\n                  }\\n              },\\n              {\\n                  \"bidder\": \"segmento\",\\n                  \"params\": {\\n                      \"placementId\": 210\\n                  }\\n              },\\n              {\\n                  \"bidder\": \"sape\",\\n                  \"params\": {\"placementId\": 821192}\\n              },\\n              {\\n                  \"bidder\": \"mediasniper\",\\n                  \"params\": {\"placementId\": 360003}\\n              },\\n              {\\n                  \"bidder\": \"mediatoday\",\\n                  \"params\": {\"placementId\": 9673}\\n              }\\n          ]\\n      },\\n      {\\n          \"code\": \"adfox_bot3\",\\n          \"sizes\": [\\n              [\\n                  300,\\n                  250\\n              ]\\n          ],\\n          \"bids\": [\\n              {\\n                  \"bidder\": \"myTarget\",\\n                  \"params\": {\\n                      \"placementId\": 320971\\n                  }\\n              },\\n              {\\n                  \"bidder\": \"betweenDigital\",\\n                  \"params\": {\\n                      \"placementId\": 2673858\\n                  }\\n              },\\n              {\\n                  \"bidder\": \"relap\",\\n                  \"params\": {\\n                      \"placementId\": \"3xAQS2uquUO5_f39\"\\n                  }\\n              },\\n              {\\n                  \"bidder\": \"otm\",\\n                  \"params\": {\\n                      \"placementId\": \"910\"\\n                  }\\n              },\\n              {\\n                  \"bidder\": \"getintent\",\\n                  \"params\": {\\n                      \"placementId\": \"134_cyberleninka.ru_mobile_adfox_mob4_300x250\"\\n                  }\\n              },\\n              {\\n                  \"bidder\": \"buzzoola\",\\n                  \"params\": {\\n                      \"placementId\": 1221041\\n                  }\\n              },\\n              {\\n                  \"bidder\": \"segmento\",\\n                  \"params\": {\\n                      \"placementId\": 211\\n                  }\\n              },\\n              {\\n                  \"bidder\": \"sape\",\\n                  \"params\": {\"placementId\": 821193}\\n              },\\n              {\\n                  \"bidder\": \"mediasniper\",\\n                  \"params\": {\"placementId\": 360004}\\n              },\\n              {\\n                  \"bidder\": \"mediatoday\",\\n                  \"params\": {\"placementId\": 9674}\\n              }\\n          ]\\n      }\\n  ];\\n\\n  var userTimeout = 1200;\\n\\n  window.YaHeaderBiddingSettings = {\\n    biddersMap: adfoxBiddersMap,\\n    adUnits: adUnits,\\n    timeout: userTimeout\\n  };\\n}\\n</script>\\n\\n\\n  </head>\\n\\n  <body id=\"body\">\\n    <div id=\"vk_api_transport\"></div>\\n    <div id=\"menu\" style=\"height: 55px;\"></div>\\n\\n    <div class=\"content\" style=\"overflow: visible;\">\\n      <div class=\"main\">\\n        \\n<div class=\"search\" id=\"search\">Полнотекстовый поиск осуществляется по названиям статей, авторам, аннотациям, ключевым словам, а также по распознанным текстам (OCR). Возвращаются только первые несколько сотен релевантных документов, поэтому если вы не нашли то что хотели на 4-5 странице, попробуйте уточнить свой поиск с помощью языка запросов. Кроме того, результаты поиска сортируются по релевантности, а не по дате. Чтобы найти новые статьи, попробуйте использовать фильтр по годам для отображения недавно опубликованных научных статей, отсортированных по релевантности. Чтобы найти статьи, относящиеся к конкретной научной области или опубликованные в конкретном журнале, попробуйте использовать фильтры по теме каталога OECD или журналу.</div>\\n<div class=\"bibloid_serp\"><i>i</i><span>Не можете найти то, что вам нужно? Попробуйте&nbsp;сервис <a target=\"_blank\" onclick=\"ga(\\'send\\', \\'event\\', \\'user\\', \\'b_search_click\\');\" href=\"https://bibloid.ru/?utm_source=cyberleninka.ru&utm_medium=search&utm_campaign=top\">подбора литературы</a>.</span></div>\\n\\n\\n<div class=\"left-banner\" style=\"width: 300px; margin-left: -320px; height: 4096px; display: flex; justify-content: space-around; align-items: flex-start;\">\\n  <div id=\"ad-left\" class=\"ad-adaptive\" style=\"position: -webkit-sticky; position: sticky; top: 40px; background: transparent;\">\\n    <div id=\"adfox_side1\"></div>\\n    <div id=\"crt-4f158390\" style=\"width:300px;height:600px;\" class=\"mobhide\"></div>\\n  </div>\\n</div>\\n\\n<div class=\"right-banner\" style=\"margin-left: 740px; height: 4096px; display: flex; justify-content: space-around; align-items: flex-start;\">\\n  <div id=\"ad-right\" class=\"ad-adaptive\" style=\"position: -webkit-sticky; position: sticky; top: 40px; background: transparent;\">\\n    <div id=\"adfox_side2\"></div>\\n    <div id=\"crt-4f158390-1\" style=\"width:300px;height:600px;\" class=\"mobhide\"></div>\\n  </div>\\n</div>\\n\\n\\n\\n        <div class=\"footer\">\\n          <hr />\\n          <div class=\"half\">\\n            <a href=\"/terms.html\" target=\"_blank\">Пользовательское соглашение</a>\\n            <a href=\"/policy.html\" target=\"_blank\">Политика конфиденциальности</a>\\n          </div>\\n          <div class=\"half-right\">\\n            <a style=\"margin-top: 5px;\" class=\"openscience\" href=\"http://open-science.ru/\" target=\"_blank\"><img src=\"/images/openscience.svg\" alt=\"Открытая наука\" /></a>\\n          </div>\\n        </div>\\n      </div>\\n    </div>\\n\\n    \\n    <script type=\"text/javascript\" src=\"/app.js?3196735396\" defer></script>\\n    \\n    <script type=\"text/javascript\">\\n      \\n\\n      window.__cl = function (f) {\\n        if (!window.__cl_callbacks) {\\n          window.__cl_callbacks = [];\\n        }\\n        window.__cl_callbacks.push(f);\\n      };\\n\\n      window.__cl(function(app) {\\n        var app = app.element(app.elm.Menu, \\'menu\\', { user: window.__cl_user, id: \"\", path: \"/search\" });\\n        if (app == null) { return; }\\n        window.notify.login = function() {\\n          app.ports.showLoginSub.send();\\n        }\\n      });\\n      window.__cl(function(app) {\\n        app.element(app.elm.Notification.Persist, \\'notification-persist\\', {\\n          cookie: document.cookie\\n        });\\n      })\\n    </script>\\n\\n    \\n  \\n  <script type=\"text/javascript\">(window.Image ? (new Image()) : document.createElement(\\'img\\')).src = \\'https://vk.com/rtrg?p=VK-RTRG-113217-3vhqF\\';</script>\\n  <script type=\"text/javascript\">\\n    (window.Image ? (new Image()) : document.createElement(\\'img\\')).src = location.protocol + \\'//vk.com/rtrg?r=pBktsqObaAtvToEtTxQbb/cxSGdswTMQ5wcdtediEFrGEy1Rbzr/IMae3Notd2g/GdggCzMzIdcwjWAsDf7M*I1hGYLGK2Uho4KO3yct6a3PDEHu/PU3m87/qEKB5u005s5BZOxtV0KGfmxRfV5X4n3kmNOYtnudE89WXjBuKsQ-\\';\\n  </script>\\n  \\n\\n\\n<script type=\"text/javascript\" >\\n   (function(m,e,t,r,i,k,a){m[i]=m[i]||function(){(m[i].a=m[i].a||[]).push(arguments)};\\n   m[i].l=1*new Date();k=e.createElement(t),a=e.getElementsByTagName(t)[0],k.async=1,k.src=r,a.parentNode.insertBefore(k,a)})\\n   (window, document, \"script\", \"https://mc.yandex.ru/metrika/tag.js\", \"ym\");\\n\\n   ym(15765706, \"init\", {\\n        clickmap:true,\\n        trackLinks:true,\\n        accurateTrackBounce:true\\n   });\\n</script>\\n<noscript><div><img src=\"https://mc.yandex.ru/watch/15765706\" style=\"position:absolute; left:-9999px;\" alt=\"\" /></div></noscript>\\n\\n\\n  \\n  <script type=\"text/javascript\">\\n    (function(i,s,o,g,r,a,m){i[\\'GoogleAnalyticsObject\\']=r;i[r]=i[r]||function(){\\n    (i[r].q=i[r].q||[]).push(arguments)},i[r].l=1*new Date();a=s.createElement(o),\\n    m=s.getElementsByTagName(o)[0];a.async=1;a.src=g;m.parentNode.insertBefore(a,m)\\n    })(window,document,\\'script\\',\\'https://www.google-analytics.com/analytics.js\\',\\'ga\\');\\n\\n    ga(\\'create\\', \\'UA-33095299-1\\', \\'auto\\');\\n    ga(\\'send\\', \\'pageview\\');\\n  </script>\\n  \\n\\n\\n    \\n\\n<script>\\n  var adfox = function(id, params) {\\n\\twindow.yaContextCb.push(()=>{\\n\\t    Ya.adfoxCode.create({\\n\\t      ownerId: 254948,\\n\\t      containerId: id,\\n\\t      params: params\\n\\t    });\\n\\t  });\\n  }\\n  if (window.innerWidth >= 1360) {\\n    adfox(\\'adfox_side1\\',{\\n      pp: \\'noj\\',\\n      ps: \\'czgi\\',\\n      p2: \\'fvyf\\',\\n      puid1: \\'\\'\\n    });\\n    adfox(\\'adfox_side2\\', {\\n      pp: \\'nok\\',\\n      ps: \\'czgi\\',\\n      p2: \\'fvyf\\',\\n      puid1: \\'\\'\\n    });\\n  }\\n</script>\\n\\n\\n<script type=\"text/javascript\">\\nwindow.__cl(function(app) {\\n  app.element(app.elm.Search, \\'search\\', {\\n    url: window.location.href\\n  });\\n});\\n</script>\\n\\n\\n\\n    <div id=\"notification-flash\"></div>\\n    <div class=\"info\"><div id=\"notification-persist\"></div></div>\\n  </body>\\n</html>\\n'"
            ],
            "application/vnd.google.colaboratory.intrinsic+json": {
              "type": "string"
            }
          },
          "metadata": {},
          "execution_count": 37
        }
      ]
    },
    {
      "cell_type": "code",
      "source": [
        "resp = requests.get(site+request+page+\"1\")\n",
        "dir(resp.request.path_url)\n",
        "domain+resp.request.path_url\n",
        "len(resp.text)"
      ],
      "metadata": {
        "colab": {
          "base_uri": "https://localhost:8080/"
        },
        "id": "CaRfHttrgNRO",
        "outputId": "593bc424-c76d-4975-a03d-3fb4b3a87727"
      },
      "execution_count": null,
      "outputs": [
        {
          "output_type": "execute_result",
          "data": {
            "text/plain": [
              "34523"
            ]
          },
          "metadata": {},
          "execution_count": 34
        }
      ]
    },
    {
      "cell_type": "code",
      "source": [
        "BeautifulSoup(resp.text, \"html5lib\").find_all(\"div\", {\"class\": \"search\"})"
      ],
      "metadata": {
        "colab": {
          "base_uri": "https://localhost:8080/"
        },
        "id": "t5oDczEtiueS",
        "outputId": "d1e4e05d-142b-4d43-d00f-44912a28104a"
      },
      "execution_count": null,
      "outputs": [
        {
          "output_type": "execute_result",
          "data": {
            "text/plain": [
              "[<div class=\"search\" id=\"search\">Полнотекстовый поиск осуществляется по названиям статей, авторам, аннотациям, ключевым словам, а также по распознанным текстам (OCR). Возвращаются только первые несколько сотен релевантных документов, поэтому если вы не нашли то что хотели на 4-5 странице, попробуйте уточнить свой поиск с помощью языка запросов. Кроме того, результаты поиска сортируются по релевантности, а не по дате. Чтобы найти новые статьи, попробуйте использовать фильтр по годам для отображения недавно опубликованных научных статей, отсортированных по релевантности. Чтобы найти статьи, относящиеся к конкретной научной области или опубликованные в конкретном журнале, попробуйте использовать фильтры по теме каталога OECD или журналу.</div>]"
            ]
          },
          "metadata": {},
          "execution_count": 35
        }
      ]
    },
    {
      "cell_type": "code",
      "source": [
        "# Теперь выделим только то, что взято в тег h3.\n",
        "lists = BeautifulSoup(resp.text, \"html5lib\").find_all(\"li\")\n",
        "# Формируем список ссылок. Для этого берем первую (кстати, единственную) ссылку из каждого выделенного\n",
        "# фрагмента, у нее берем значение параметра href. Так как ссылки внутренние, добавляем к ним адрес сайта.\n",
        "print(lists)\n",
        "links = [site+l.find_all(\"a\")[0][\"href\"] for l in lists]\n",
        "print(links)"
      ],
      "metadata": {
        "colab": {
          "base_uri": "https://localhost:8080/"
        },
        "id": "eCeXlyOoh5bT",
        "outputId": "4d952ba7-e754-49e8-dd83-482d71cd189b"
      },
      "execution_count": null,
      "outputs": [
        {
          "output_type": "stream",
          "name": "stdout",
          "text": [
            "[]\n",
            "[]\n"
          ]
        }
      ]
    },
    {
      "cell_type": "code",
      "source": [
        "# Получили объект BeautifulSoup и скормили ему текст страницы.\n",
        "bs = BeautifulSoup(resp.text, \"html5lib\") \n",
        "# Вот таким образом можно попросить отдать первый тег, отмеченный как h1. Вместо h1 можно написать любой другой тег.\n",
        "title = bs.h1.text\n",
        "# Получаем все параграфы (тег p), берем их текст без тегов и склеиваем в один текст.\n",
        "text = \" \".join([p.text for p in bs.find_all(\"p\")])\n",
        "print(title, \"\\n-----\\n\", text)"
      ],
      "metadata": {
        "id": "dPNXYpSwhFtF"
      },
      "execution_count": null,
      "outputs": []
    },
    {
      "cell_type": "markdown",
      "source": [
        "# Пробуем IXBT.\n"
      ],
      "metadata": {
        "id": "PpjOiC9sPluJ"
      }
    },
    {
      "cell_type": "code",
      "source": [
        "# https://www.ixbt.com/news/2023/05/23/\n",
        "# Разбиваем на части.\n",
        "IXBTHandler = \"https://www.ixbt.com/news/\"\n",
        "IXBTDomain = \"https://www.ixbt.com\"\n",
        "IXBTDate = \"2023/05/23/\""
      ],
      "metadata": {
        "id": "5QK9xuS5RTMQ"
      },
      "execution_count": 4,
      "outputs": []
    },
    {
      "cell_type": "code",
      "source": [
        "IXBTresp = requests.get(IXBTHandler + IXBTDate)"
      ],
      "metadata": {
        "id": "vhRYIlXXQSXj"
      },
      "execution_count": 5,
      "outputs": []
    },
    {
      "cell_type": "code",
      "source": [
        "BeautifulSoup(IXBTresp.text, \"html5lib\").find_all(\"div\", {\"class\": \"b-block block__newslistdefault b-lined-title\"})"
      ],
      "metadata": {
        "id": "ZFyK9uChTAyU"
      },
      "execution_count": null,
      "outputs": []
    },
    {
      "cell_type": "code",
      "source": [
        "IXBTsouped = BeautifulSoup(IXBTresp.text, \"html5lib\").find_all(\"a\", {\"class\": \"item__text--title\"})"
      ],
      "metadata": {
        "id": "xenJk6RrTxK1"
      },
      "execution_count": 50,
      "outputs": []
    },
    {
      "cell_type": "code",
      "source": [
        "IXBTNewsLinks = []\n",
        "for IXBTlink in IXBTsouped:\n",
        "  print(IXBTlink[\"href\"])\n",
        "  IXBTNewsLinks.append(IXBTDomain+IXBTlink[\"href\"])\n",
        "# IXBTsouped[0][\"href\"]"
      ],
      "metadata": {
        "colab": {
          "base_uri": "https://localhost:8080/"
        },
        "id": "RYvWYZS4Ye_p",
        "outputId": "3f840ed2-d2f6-431a-ac55-f86f111c040a"
      },
      "execution_count": 51,
      "outputs": [
        {
          "output_type": "stream",
          "name": "stdout",
          "text": [
            "/news/2023/05/29/oneplus-ace-2-pro-reno10-pro.html\n",
            "/news/2023/05/29/sotni-millionov-vladelcev-androidustrojstv-riskujut-stat-zhertvami-kibershpionazha-prilozhenija-s-vredonosnym-modulem.html\n",
            "/news/2023/05/29/pny-rtx-4090-verto-argb-dual-fan-cooler-master.html\n",
            "/news/2023/05/29/635-bmw-m5-cs-823.html\n",
            "/news/2023/05/29/intel-cpu-meteor-lake.html\n",
            "/news/2023/05/29/5-7-jac-s7.html\n",
            "/news/2023/05/29/27-40-honor-earbuds-x5.html\n",
            "/news/2023/05/29/twitch-povyshaet-ceny-v-rossii--bolee-chem-vdvoe.html\n",
            "/news/2023/05/29/opel-mokka-2-1-neta-v.html\n",
            "/news/2023/05/29/xiaomi-14-pro.html\n",
            "/news/2023/05/29/bmw-audi-mercedes-5-toyota-crown-sedan-lexus-ls.html\n",
            "/news/2023/05/29/vesna-u-kiberprestupnikov-zaregistrirovan-rezkij-vzljot-atak-na-klientov-rossijskih-bankov.html\n",
            "/news/2023/05/29/200-honor-90-5000-66-200-355.html\n",
            "/news/2023/05/29/kak-pokorit-wildberries-i-ozon-tinkoff-zapustil-servis-dlja-prodavcov-marketplejsov.html\n",
            "/news/2023/05/29/faw-bestune-t99-2-95-6.html\n",
            "/news/2023/05/29/lada-vesta-ng.html\n",
            "/news/2023/05/29/rossijskie-avtomobili-sollers-teper-mozhno-kupit-cherez-onlajnvitrinu.html\n",
            "/news/2023/05/29/sony-days-gone-2-cyberpunk-2077.html\n",
            "/news/2023/05/29/vozrozhdjonnyj-moskvich-vpervye-vyrvalsja-v-lidery-rossijskogo-avtorynka.html\n",
            "/news/2023/05/29/predstavlena-ochen-neobychnaja-klaviatura-v-stile-klassicheskih-pechatnyh-mashinok-dlja-pk-i-smartfonov.html\n",
            "/news/2023/05/29/avtoteka-navala-proverjat-mashiny-na-uchastie-v-zarubezhnyh-avarijnyh-aukcionah-.html\n",
            "/news/2023/05/29/v-whatsapp-mozhno-budet-translirovat-svoj-jekran-sobesedniku.html\n",
            "/news/2023/05/29/dongfeng-aeolus-e-01.html\n",
            "/news/2023/05/29/mediatek-gpu-nvidia.html\n",
            "/news/2023/05/29/240-1-200-realme-gt3-realme-11.html\n",
            "/news/2023/05/29/700-gpu-80-nvidia-hopper-next.html\n",
            "/news/2023/05/29/predstavlen-pervyj-zhiloj-dom-bugatti-s-liftami-pozvoljajushimi-podnjatsja-na-mashinah-v-svoih-appartamenty.html\n",
            "/news/2023/05/29/menshe-moshennichestva-v-wildberries-na-70-sokratili-chislo-samovykupov.html\n",
            "/news/2023/05/29/nvidia-npc-ace-for-games.html\n",
            "/news/2023/05/29/tesla-e-neva.html\n",
            "/news/2023/05/29/v-rossii-izmenilis-startovye-ceny-na-exeed.html\n",
            "/news/2023/05/29/2023-arm-cortex-x4.html\n",
            "/news/2023/05/29/lada-niva-travel.html\n",
            "/news/2023/05/29/nvidia-1000-2000-ulmb-2.html\n",
            "/news/2023/05/29/mozhno-poterjat-svoi-foto-apple-zakryvaet-besplatnyj-servis-moj-fotopotok.html\n",
            "/news/2023/05/29/prezidenty-rossii-i-belorussii-obsudili-ideju-edinoj-valjuty.html\n",
            "/news/2023/05/29/asus-geforce-rtx-4070.html\n",
            "/news/2023/05/29/ot-smartfonov-i-do-televizorov-v-rossiju-zavezli-partiju-umnoj-tehniki-na-baze-android-zarazhjonnoj-prjamo-na-zavodah.html\n",
            "/news/2023/05/29/ssha-ne-poterpjat-zapreta-kitaja-na-chipy-micron-i-reshitelno-vystupajut-protiv-takih-dejstvij-.html\n",
            "/news/2023/05/29/s7-embraer-e170-2024.html\n",
            "/news/2023/05/29/honor-90-pro.html\n",
            "/news/2023/05/29/jandeks-vypustil-pankovskuju-stanciju-maks-dlja-fanatov-korolja-i-shuta.html\n",
            "/news/2023/05/29/nvidia-256-gh200-144-1.html\n",
            "/news/2023/05/29/polestar-2-volvo.html\n",
            "/news/2023/05/29/apple-watch-ip67-110-spo2-25-noise-colorfit-mighty.html\n",
            "/news/2023/05/29/dongfeng-privezjot-v-rossiju-dizelnye-i-benzinovye-novinki-kompanija-aktivno-podbiraet-partnjora-dlja-proizvodstva.html\n",
            "/news/2023/05/29/xiaomi-mijia-spinning-bike.html\n",
            "/news/2023/05/29/smartfony-v-rossii-podkljuchat-k-sputnikam-sotovosputnikovaja-set-svjazi-ozhidaetsja-v-sledujushem-desjatiletii.html\n",
            "/news/2023/05/29/atom-stanet-jakornym-rezidentom-novogo-itparka-v-naberezhnyh-chelnah.html\n",
            "/news/2023/05/29/lada-vesta-lada.html\n",
            "/news/2023/05/29/rossijskost-mashin-budut-opredeljat-inache-v-rf-reshili-pomenjat-sistemu-ocenki-urovnja-lokalizacii-avtomobilej.html\n",
            "/news/2023/05/29/oled-qd-oled-dscc.html\n",
            "/news/2023/05/29/nazvany-samye-nadezhnye-kitajskie-mashiny-s-probegom-v-rossii-rejting-vozglavila-daleko-ne-samaja-populjarnaja-model.html\n",
            "/news/2023/05/29/mazda-mazda-cx-5-2025.html\n",
            "/news/2023/05/29/tajkonavty-planirujut-vysaditsja-na-lune-do-2030-goda.html\n",
            "/news/2023/05/29/33-9k-1400-akg-cadillac-ct6-2023.html\n",
            "/news/2023/05/29/avtovaz-prekratil-proizvodstvo-avtomobilej-ego-planirujut-vozobnovit-tolko-20-ijunja.html\n",
            "/news/2023/05/29/iphone-15-500-foxconn.html\n",
            "/news/2023/05/29/v-rossii-prizyvajut-sozdat-analog-kitajskogo-fajrvola-kotoryj-sdelaet-bessmyslennymi-vpnservisy.html\n",
            "/news/2023/05/29/iphone-16-pro-max-sony-imx903.html\n",
            "/news/2023/05/29/redmi-note-12t-pro.html\n",
            "/news/2023/05/29/500-hkc-huike.html\n",
            "/news/2023/05/29/tesla-model-s-model-x.html\n",
            "/news/2023/05/29/lamborghini-urus-forthing-t5-evo.html\n",
            "/news/2023/05/29/bentley-24-1923-3-7.html\n",
            "/news/2023/05/29/tesla-ford-ford-tesla.html\n",
            "/news/2023/05/29/bmw-rasskazala-ob-igrah-v-novyh-avtomobiljah-i-ispolzovanii-smartfonov-v-kachestve-kontrollera.html\n",
            "/news/2023/05/29/istoricheskoe-sobytie-unionpay-vpervye-obognala-visa-na-rynke-debetovyh-kart.html\n",
            "/news/2023/05/29/polnostju-rossijskij-poezd-sledujushego-pokolenija-so-skorostju-do-400-kmch-budet-gotov-v-2027-godu.html\n",
            "/news/2023/05/29/russkie-mashiny-ochen-dostojnye-ochen-krepkie-nam-nuzhen-imenno-uaz--ne-lada--uaz-patriot-hotjat-sobirat-v.html\n",
            "/news/2023/05/29/volvo-ex90-zeekr-cs1e.html\n",
            "/news/2023/05/29/huawei-seres-100-000-15.html\n",
            "/news/2023/05/29/1000-chery-icar-03.html\n",
            "/news/2023/05/29/youtube-ura-ru.html\n",
            "/news/2023/05/29/alan-wake-2-epic-games-store.html\n",
            "/news/2023/05/29/prezident-microsoft-schitaet-ii-krupnejshim-izobreteniem-chelovechestva-i-sravnivaet-ego-s-pojavleniem-pechatnogo-stanka.html\n",
            "/news/2023/05/29/grandioznaja-utechka-tesla-soderzhit-dannye-ilona-maska-i-tysjachi-zhalob-klientov.html\n",
            "/news/2023/05/29/ii-privedjot-k-sozdaniju-rabochih-mest-a-kommercheskoe-primenenie-kvantovyh-kompjuterov-nachnjotsja-uzhe-skoro-po.html\n",
            "/news/2023/05/29/toyota-rav4-corolla-tesla-model-y.html\n"
          ]
        }
      ]
    },
    {
      "cell_type": "code",
      "source": [
        "print(IXBTNewsLinks)"
      ],
      "metadata": {
        "colab": {
          "base_uri": "https://localhost:8080/"
        },
        "id": "NDF5ThN3QIPC",
        "outputId": "59da3e9d-039e-4351-d510-26ebe5e578cf"
      },
      "execution_count": 52,
      "outputs": [
        {
          "output_type": "stream",
          "name": "stdout",
          "text": [
            "['https://www.ixbt.com/news/2023/05/29/oneplus-ace-2-pro-reno10-pro.html', 'https://www.ixbt.com/news/2023/05/29/sotni-millionov-vladelcev-androidustrojstv-riskujut-stat-zhertvami-kibershpionazha-prilozhenija-s-vredonosnym-modulem.html', 'https://www.ixbt.com/news/2023/05/29/pny-rtx-4090-verto-argb-dual-fan-cooler-master.html', 'https://www.ixbt.com/news/2023/05/29/635-bmw-m5-cs-823.html', 'https://www.ixbt.com/news/2023/05/29/intel-cpu-meteor-lake.html', 'https://www.ixbt.com/news/2023/05/29/5-7-jac-s7.html', 'https://www.ixbt.com/news/2023/05/29/27-40-honor-earbuds-x5.html', 'https://www.ixbt.com/news/2023/05/29/twitch-povyshaet-ceny-v-rossii--bolee-chem-vdvoe.html', 'https://www.ixbt.com/news/2023/05/29/opel-mokka-2-1-neta-v.html', 'https://www.ixbt.com/news/2023/05/29/xiaomi-14-pro.html', 'https://www.ixbt.com/news/2023/05/29/bmw-audi-mercedes-5-toyota-crown-sedan-lexus-ls.html', 'https://www.ixbt.com/news/2023/05/29/vesna-u-kiberprestupnikov-zaregistrirovan-rezkij-vzljot-atak-na-klientov-rossijskih-bankov.html', 'https://www.ixbt.com/news/2023/05/29/200-honor-90-5000-66-200-355.html', 'https://www.ixbt.com/news/2023/05/29/kak-pokorit-wildberries-i-ozon-tinkoff-zapustil-servis-dlja-prodavcov-marketplejsov.html', 'https://www.ixbt.com/news/2023/05/29/faw-bestune-t99-2-95-6.html', 'https://www.ixbt.com/news/2023/05/29/lada-vesta-ng.html', 'https://www.ixbt.com/news/2023/05/29/rossijskie-avtomobili-sollers-teper-mozhno-kupit-cherez-onlajnvitrinu.html', 'https://www.ixbt.com/news/2023/05/29/sony-days-gone-2-cyberpunk-2077.html', 'https://www.ixbt.com/news/2023/05/29/vozrozhdjonnyj-moskvich-vpervye-vyrvalsja-v-lidery-rossijskogo-avtorynka.html', 'https://www.ixbt.com/news/2023/05/29/predstavlena-ochen-neobychnaja-klaviatura-v-stile-klassicheskih-pechatnyh-mashinok-dlja-pk-i-smartfonov.html', 'https://www.ixbt.com/news/2023/05/29/avtoteka-navala-proverjat-mashiny-na-uchastie-v-zarubezhnyh-avarijnyh-aukcionah-.html', 'https://www.ixbt.com/news/2023/05/29/v-whatsapp-mozhno-budet-translirovat-svoj-jekran-sobesedniku.html', 'https://www.ixbt.com/news/2023/05/29/dongfeng-aeolus-e-01.html', 'https://www.ixbt.com/news/2023/05/29/mediatek-gpu-nvidia.html', 'https://www.ixbt.com/news/2023/05/29/240-1-200-realme-gt3-realme-11.html', 'https://www.ixbt.com/news/2023/05/29/700-gpu-80-nvidia-hopper-next.html', 'https://www.ixbt.com/news/2023/05/29/predstavlen-pervyj-zhiloj-dom-bugatti-s-liftami-pozvoljajushimi-podnjatsja-na-mashinah-v-svoih-appartamenty.html', 'https://www.ixbt.com/news/2023/05/29/menshe-moshennichestva-v-wildberries-na-70-sokratili-chislo-samovykupov.html', 'https://www.ixbt.com/news/2023/05/29/nvidia-npc-ace-for-games.html', 'https://www.ixbt.com/news/2023/05/29/tesla-e-neva.html', 'https://www.ixbt.com/news/2023/05/29/v-rossii-izmenilis-startovye-ceny-na-exeed.html', 'https://www.ixbt.com/news/2023/05/29/2023-arm-cortex-x4.html', 'https://www.ixbt.com/news/2023/05/29/lada-niva-travel.html', 'https://www.ixbt.com/news/2023/05/29/nvidia-1000-2000-ulmb-2.html', 'https://www.ixbt.com/news/2023/05/29/mozhno-poterjat-svoi-foto-apple-zakryvaet-besplatnyj-servis-moj-fotopotok.html', 'https://www.ixbt.com/news/2023/05/29/prezidenty-rossii-i-belorussii-obsudili-ideju-edinoj-valjuty.html', 'https://www.ixbt.com/news/2023/05/29/asus-geforce-rtx-4070.html', 'https://www.ixbt.com/news/2023/05/29/ot-smartfonov-i-do-televizorov-v-rossiju-zavezli-partiju-umnoj-tehniki-na-baze-android-zarazhjonnoj-prjamo-na-zavodah.html', 'https://www.ixbt.com/news/2023/05/29/ssha-ne-poterpjat-zapreta-kitaja-na-chipy-micron-i-reshitelno-vystupajut-protiv-takih-dejstvij-.html', 'https://www.ixbt.com/news/2023/05/29/s7-embraer-e170-2024.html', 'https://www.ixbt.com/news/2023/05/29/honor-90-pro.html', 'https://www.ixbt.com/news/2023/05/29/jandeks-vypustil-pankovskuju-stanciju-maks-dlja-fanatov-korolja-i-shuta.html', 'https://www.ixbt.com/news/2023/05/29/nvidia-256-gh200-144-1.html', 'https://www.ixbt.com/news/2023/05/29/polestar-2-volvo.html', 'https://www.ixbt.com/news/2023/05/29/apple-watch-ip67-110-spo2-25-noise-colorfit-mighty.html', 'https://www.ixbt.com/news/2023/05/29/dongfeng-privezjot-v-rossiju-dizelnye-i-benzinovye-novinki-kompanija-aktivno-podbiraet-partnjora-dlja-proizvodstva.html', 'https://www.ixbt.com/news/2023/05/29/xiaomi-mijia-spinning-bike.html', 'https://www.ixbt.com/news/2023/05/29/smartfony-v-rossii-podkljuchat-k-sputnikam-sotovosputnikovaja-set-svjazi-ozhidaetsja-v-sledujushem-desjatiletii.html', 'https://www.ixbt.com/news/2023/05/29/atom-stanet-jakornym-rezidentom-novogo-itparka-v-naberezhnyh-chelnah.html', 'https://www.ixbt.com/news/2023/05/29/lada-vesta-lada.html', 'https://www.ixbt.com/news/2023/05/29/rossijskost-mashin-budut-opredeljat-inache-v-rf-reshili-pomenjat-sistemu-ocenki-urovnja-lokalizacii-avtomobilej.html', 'https://www.ixbt.com/news/2023/05/29/oled-qd-oled-dscc.html', 'https://www.ixbt.com/news/2023/05/29/nazvany-samye-nadezhnye-kitajskie-mashiny-s-probegom-v-rossii-rejting-vozglavila-daleko-ne-samaja-populjarnaja-model.html', 'https://www.ixbt.com/news/2023/05/29/mazda-mazda-cx-5-2025.html', 'https://www.ixbt.com/news/2023/05/29/tajkonavty-planirujut-vysaditsja-na-lune-do-2030-goda.html', 'https://www.ixbt.com/news/2023/05/29/33-9k-1400-akg-cadillac-ct6-2023.html', 'https://www.ixbt.com/news/2023/05/29/avtovaz-prekratil-proizvodstvo-avtomobilej-ego-planirujut-vozobnovit-tolko-20-ijunja.html', 'https://www.ixbt.com/news/2023/05/29/iphone-15-500-foxconn.html', 'https://www.ixbt.com/news/2023/05/29/v-rossii-prizyvajut-sozdat-analog-kitajskogo-fajrvola-kotoryj-sdelaet-bessmyslennymi-vpnservisy.html', 'https://www.ixbt.com/news/2023/05/29/iphone-16-pro-max-sony-imx903.html', 'https://www.ixbt.com/news/2023/05/29/redmi-note-12t-pro.html', 'https://www.ixbt.com/news/2023/05/29/500-hkc-huike.html', 'https://www.ixbt.com/news/2023/05/29/tesla-model-s-model-x.html', 'https://www.ixbt.com/news/2023/05/29/lamborghini-urus-forthing-t5-evo.html', 'https://www.ixbt.com/news/2023/05/29/bentley-24-1923-3-7.html', 'https://www.ixbt.com/news/2023/05/29/tesla-ford-ford-tesla.html', 'https://www.ixbt.com/news/2023/05/29/bmw-rasskazala-ob-igrah-v-novyh-avtomobiljah-i-ispolzovanii-smartfonov-v-kachestve-kontrollera.html', 'https://www.ixbt.com/news/2023/05/29/istoricheskoe-sobytie-unionpay-vpervye-obognala-visa-na-rynke-debetovyh-kart.html', 'https://www.ixbt.com/news/2023/05/29/polnostju-rossijskij-poezd-sledujushego-pokolenija-so-skorostju-do-400-kmch-budet-gotov-v-2027-godu.html', 'https://www.ixbt.com/news/2023/05/29/russkie-mashiny-ochen-dostojnye-ochen-krepkie-nam-nuzhen-imenno-uaz--ne-lada--uaz-patriot-hotjat-sobirat-v.html', 'https://www.ixbt.com/news/2023/05/29/volvo-ex90-zeekr-cs1e.html', 'https://www.ixbt.com/news/2023/05/29/huawei-seres-100-000-15.html', 'https://www.ixbt.com/news/2023/05/29/1000-chery-icar-03.html', 'https://www.ixbt.com/news/2023/05/29/youtube-ura-ru.html', 'https://www.ixbt.com/news/2023/05/29/alan-wake-2-epic-games-store.html', 'https://www.ixbt.com/news/2023/05/29/prezident-microsoft-schitaet-ii-krupnejshim-izobreteniem-chelovechestva-i-sravnivaet-ego-s-pojavleniem-pechatnogo-stanka.html', 'https://www.ixbt.com/news/2023/05/29/grandioznaja-utechka-tesla-soderzhit-dannye-ilona-maska-i-tysjachi-zhalob-klientov.html', 'https://www.ixbt.com/news/2023/05/29/ii-privedjot-k-sozdaniju-rabochih-mest-a-kommercheskoe-primenenie-kvantovyh-kompjuterov-nachnjotsja-uzhe-skoro-po.html', 'https://www.ixbt.com/news/2023/05/29/toyota-rav4-corolla-tesla-model-y.html']\n"
          ]
        }
      ]
    },
    {
      "cell_type": "markdown",
      "source": [
        "## Разберём одну статью"
      ],
      "metadata": {
        "id": "YfkO7kiJT28j"
      }
    },
    {
      "cell_type": "code",
      "source": [],
      "metadata": {
        "id": "7mQ1ZkF5T2kW"
      },
      "execution_count": 17,
      "outputs": []
    },
    {
      "cell_type": "code",
      "source": [
        "IXBTTestNews = IXBTNewsLinks[1]\n",
        "IXBTTestNewsResp = requests.get(IXBTTestNews)"
      ],
      "metadata": {
        "id": "mOsd23HosmtD"
      },
      "execution_count": 53,
      "outputs": []
    },
    {
      "cell_type": "code",
      "source": [
        "IXBTTestH1 = BeautifulSoup(IXBTTestNewsResp.text, \"html5lib\").find_all(\"h1\") # , {\"class\": \"item__text--title\"}"
      ],
      "metadata": {
        "id": "EAY8w1vksu4t"
      },
      "execution_count": 54,
      "outputs": []
    },
    {
      "cell_type": "markdown",
      "source": [
        "### Здесь выведем заголовки"
      ],
      "metadata": {
        "id": "FQMa6gZFGi-6"
      }
    },
    {
      "cell_type": "code",
      "source": [
        "IXBTTestSoup = BeautifulSoup(IXBTTestNewsResp.text)\n",
        "print(IXBTTestSoup.h1.string)\n",
        "print(IXBTTestSoup.h4.string)\n"
      ],
      "metadata": {
        "colab": {
          "base_uri": "https://localhost:8080/"
        },
        "id": "B-Njs2KWzJC-",
        "outputId": "3ef28866-19a0-4446-c9ea-0949c7a0193a"
      },
      "execution_count": 55,
      "outputs": [
        {
          "output_type": "stream",
          "name": "stdout",
          "text": [
            "Сотни миллионов владельцев Android-устройств рискуют стать жертвами кибершпионажа: приложения с вредоносным модулем установили более 421 млн раз\n",
            "SpinOk обнаружили в 101 программе\n"
          ]
        }
      ]
    },
    {
      "cell_type": "markdown",
      "source": [
        "### здесь выведем текст новости или статьи"
      ],
      "metadata": {
        "id": "MGzxKk1lGnuB"
      }
    },
    {
      "cell_type": "code",
      "source": [
        "IXBTTestArticleMain = BeautifulSoup(IXBTTestNewsResp.text, \"html5lib\").find_all(\"div\", {\"id\":\"main-pagecontent__div\"})"
      ],
      "metadata": {
        "id": "oYBv7bEdzxO3"
      },
      "execution_count": 56,
      "outputs": []
    },
    {
      "cell_type": "code",
      "source": [
        "IXBTTestResText = []\n",
        "IXBTTestResString = \"\"\n",
        "for paragraph in IXBTTestArticleMain:\n",
        "  print(paragraph.text)\n",
        "  IXBTTestResString = IXBTTestResString + paragraph.text\n",
        "  paragraph.findAll(\"p\")\n",
        "  IXBTTestResText.append(paragraph.find_all(\"p\"))"
      ],
      "metadata": {
        "id": "rk57FyXotWrv"
      },
      "execution_count": null,
      "outputs": []
    },
    {
      "cell_type": "code",
      "source": [
        "IXBTTestResText"
      ],
      "metadata": {
        "id": "NNCB8HKP1cre"
      },
      "execution_count": null,
      "outputs": []
    },
    {
      "cell_type": "code",
      "source": [
        "IXBTTestResString"
      ],
      "metadata": {
        "colab": {
          "base_uri": "https://localhost:8080/",
          "height": 125
        },
        "id": "81JqGSlp3ZCu",
        "outputId": "22fe3062-811c-4d76-f3ad-c30e422f72a8"
      },
      "execution_count": 60,
      "outputs": [
        {
          "output_type": "execute_result",
          "data": {
            "text/plain": [
              "'\\n                        Компания «Доктор Веб» выявила вредоносный программный модуль для ОС Android, обладающий шпионскими функциями - он может собирать информацию о хранящихся на устройствах файлах, передавать их злоумышленникам, а также подменять и загружать содержимое буфера обмена на удаленный сервер.\\xa0\\n\\n\\n\\n\\nСгенерировано нейросетью Midjourney\\n\\n\\n\\nПо классификации Dr.Web он получил имя Android.Spy.SpinOk. Модуль распространяется под видом маркетингового SDK, его встраивают в различные игры и приложения для Android, доступные в том числе в официальном магазине Google Play.\\xa0\\n\\n\\n\\nИллюстрация: «Доктор Веб»\\n\\n\\n\\nМодуль SpinOk предназначен для удержания пользователей в приложениях с помощью мини-игр, системы заданий, а также якобы розыгрышей призов. В компании рассказали:\\n\\n\\n\\nПри инициализации это троянское SDK соединяется с C&C-сервером, отправляя на него запрос с множеством технических данных о зараженном устройстве. Среди них — данные сенсоров, таких как гироскоп, магнитометр и т. д., которые могут использоваться для распознавания работы в среде эмуляторов и корректировки работы вредоносного приложения во избежание обнаружения его активности исследователями. С этой же целью игнорируются и настройки прокси устройства, что позволяет скрыть сетевые подключения при анализе. В ответ модуль получает от управляющего сервера список ссылок, которые тот загружает в WebView для демонстрации рекламных баннеров.\\n\\n\\nСпециалисты обнаружили этот троянский модуль и несколько его модификаций в целом ряде приложений, распространявшихся через каталог Google Play. Некоторые из них содержат вредоносное SDK до сих пор, у других он был лишь в определенных версиях, третьи уже удалены.\\xa0\\n\\n\\n\\n\\nИллюстрация: «Доктор Веб»\\n\\n\\n\\nВсего SpinOk обнаружили в 101 программе, которые суммарно были загружены не менее 421 290 300 раз. В компании отмечают, что «сотни миллионов владельцев Android-устройств рискуют стать жертвами кибершпионажа». «Доктор Веб» оповестила корпорацию Google о выявленной угрозе.                    '"
            ],
            "application/vnd.google.colaboratory.intrinsic+json": {
              "type": "string"
            }
          },
          "metadata": {},
          "execution_count": 60
        }
      ]
    },
    {
      "cell_type": "markdown",
      "source": [
        "Убираем лишние символы"
      ],
      "metadata": {
        "id": "5NSWC_6_G2Zj"
      }
    },
    {
      "cell_type": "code",
      "source": [
        "prevSymb = ''\n",
        "IXBTTestNewResString = \"\"\n",
        "for symb in IXBTTestResString:\n",
        "  if symb == '\\n':\n",
        "    continue\n",
        "  if symb == '\\xa0':\n",
        "    symb = ' '\n",
        "    # continue\n",
        "  if prevSymb == symb:\n",
        "    continue\n",
        "  if symb == ' ':\n",
        "    prevSymb = symb\n",
        "  if prevSymb != symb:\n",
        "    prevSymb = ''\n",
        "  # print(symb)\n",
        "  IXBTTestNewResString = IXBTTestNewResString + symb"
      ],
      "metadata": {
        "id": "mdq0hax55-Iz"
      },
      "execution_count": 61,
      "outputs": []
    },
    {
      "cell_type": "code",
      "source": [
        "IXBTTestNewResString"
      ],
      "metadata": {
        "colab": {
          "base_uri": "https://localhost:8080/",
          "height": 125
        },
        "id": "dMvnc5T37Tgs",
        "outputId": "90e6a48d-edc1-4129-f026-f385445d2845"
      },
      "execution_count": 62,
      "outputs": [
        {
          "output_type": "execute_result",
          "data": {
            "text/plain": [
              "' Компания «Доктор Веб» выявила вредоносный программный модуль для ОС Android, обладающий шпионскими функциями - он может собирать информацию о хранящихся на устройствах файлах, передавать их злоумышленникам, а также подменять и загружать содержимое буфера обмена на удаленный сервер. Сгенерировано нейросетью MidjourneyПо классификации Dr.Web он получил имя Android.Spy.SpinOk. Модуль распространяется под видом маркетингового SDK, его встраивают в различные игры и приложения для Android, доступные в том числе в официальном магазине Google Play. Иллюстрация: «Доктор Веб»Модуль SpinOk предназначен для удержания пользователей в приложениях с помощью мини-игр, системы заданий, а также якобы розыгрышей призов. В компании рассказали:При инициализации это троянское SDK соединяется с C&C-сервером, отправляя на него запрос с множеством технических данных о зараженном устройстве. Среди них — данные сенсоров, таких как гироскоп, магнитометр и т. д., которые могут использоваться для распознавания работы в среде эмуляторов и корректировки работы вредоносного приложения во избежание обнаружения его активности исследователями. С этой же целью игнорируются и настройки прокси устройства, что позволяет скрыть сетевые подключения при анализе. В ответ модуль получает от управляющего сервера список ссылок, которые тот загружает в WebView для демонстрации рекламных баннеров.Специалисты обнаружили этот троянский модуль и несколько его модификаций в целом ряде приложений, распространявшихся через каталог Google Play. Некоторые из них содержат вредоносное SDK до сих пор, у других он был лишь в определенных версиях, третьи уже удалены. Иллюстрация: «Доктор Веб»Всего SpinOk обнаружили в 101 программе, которые суммарно были загружены не менее 421 290 300 раз. В компании отмечают, что «сотни миллионов владельцев Android-устройств рискуют стать жертвами кибершпионажа». «Доктор Веб» оповестила корпорацию Google о выявленной угрозе. '"
            ],
            "application/vnd.google.colaboratory.intrinsic+json": {
              "type": "string"
            }
          },
          "metadata": {},
          "execution_count": 62
        }
      ]
    },
    {
      "cell_type": "code",
      "source": [
        "for i in IXBTTestResText:\n",
        "  print()"
      ],
      "metadata": {
        "colab": {
          "base_uri": "https://localhost:8080/"
        },
        "id": "r3SfaVNB2Kgc",
        "outputId": "cc88d3b1-63bf-42e6-c186-0f3d863d2a7b"
      },
      "execution_count": 63,
      "outputs": [
        {
          "output_type": "stream",
          "name": "stdout",
          "text": [
            "\n"
          ]
        }
      ]
    },
    {
      "cell_type": "markdown",
      "source": [
        "## теперь попробуем парсинг новостей по датам"
      ],
      "metadata": {
        "id": "DjTQq-LpHPlT"
      }
    },
    {
      "cell_type": "code",
      "source": [
        "startDate = datetime.datetime.now()"
      ],
      "metadata": {
        "id": "Xudq-r-ZHtHI"
      },
      "execution_count": 37,
      "outputs": []
    },
    {
      "cell_type": "code",
      "source": [
        "def createDateString(date):\n",
        "  monthStr = \"\"\n",
        "  dayStr = \"\"\n",
        "  dayStr = str(date.day) # TODO: Возможно стоит и для дня такое же сделать\n",
        "  print(dayStr)\n",
        "  if date.month < 10:\n",
        "    monthStr = \"0\"+str(date.month)\n",
        "  else:\n",
        "    monthStr = str(date.month)\n",
        "  print(monthStr)\n",
        "  yearStr = str(date.year)\n",
        "  print(yearStr)\n",
        "  \n",
        "  # \"2023/05/23/\"\n",
        "  resStr = yearStr + \"/\" + monthStr + \"/\" + dayStr + \"/\"\n",
        "  return resStr\n",
        "\n",
        "dateStr = createDateString(startDate)\n",
        "print(dateStr)"
      ],
      "metadata": {
        "colab": {
          "base_uri": "https://localhost:8080/"
        },
        "id": "MIqnq6QxIn65",
        "outputId": "ad8db1d6-ab19-455a-c9cd-587bdefa4008"
      },
      "execution_count": 47,
      "outputs": [
        {
          "output_type": "stream",
          "name": "stdout",
          "text": [
            "29\n",
            "05\n",
            "2023\n",
            "2023/05/29/\n"
          ]
        }
      ]
    },
    {
      "cell_type": "code",
      "source": [
        "IXBTresp = requests.get(IXBTHandler + dateStr)"
      ],
      "metadata": {
        "id": "SXcOFNkxKpT8"
      },
      "execution_count": 48,
      "outputs": []
    },
    {
      "cell_type": "code",
      "source": [],
      "metadata": {
        "id": "ft1K9VVcK28R"
      },
      "execution_count": null,
      "outputs": []
    },
    {
      "cell_type": "markdown",
      "source": [
        "## Разберём пакет статей"
      ],
      "metadata": {
        "id": "kkpvnE23sXDr"
      }
    },
    {
      "cell_type": "code",
      "source": [
        "import time\n",
        "for link in IXBTNewsLinks:\n",
        "  NewsResp = requests.get(link)\n",
        "  time.sleep(1/2)"
      ],
      "metadata": {
        "colab": {
          "base_uri": "https://localhost:8080/",
          "height": 204
        },
        "id": "lsVgRApxQbr7",
        "outputId": "b9824740-9b6f-4607-dda0-3d064bb2bb87"
      },
      "execution_count": null,
      "outputs": [
        {
          "output_type": "error",
          "ename": "KeyboardInterrupt",
          "evalue": "ignored",
          "traceback": [
            "\u001b[0;31m---------------------------------------------------------------------------\u001b[0m",
            "\u001b[0;31mKeyboardInterrupt\u001b[0m                         Traceback (most recent call last)",
            "\u001b[0;32m<ipython-input-12-0fb005b787cf>\u001b[0m in \u001b[0;36m<cell line: 2>\u001b[0;34m()\u001b[0m\n\u001b[1;32m      2\u001b[0m \u001b[0;32mfor\u001b[0m \u001b[0mlink\u001b[0m \u001b[0;32min\u001b[0m \u001b[0mIXBTNewsLinks\u001b[0m\u001b[0;34m:\u001b[0m\u001b[0;34m\u001b[0m\u001b[0;34m\u001b[0m\u001b[0m\n\u001b[1;32m      3\u001b[0m   \u001b[0mNewsResp\u001b[0m \u001b[0;34m=\u001b[0m \u001b[0mrequests\u001b[0m\u001b[0;34m.\u001b[0m\u001b[0mget\u001b[0m\u001b[0;34m(\u001b[0m\u001b[0mlink\u001b[0m\u001b[0;34m)\u001b[0m\u001b[0;34m\u001b[0m\u001b[0;34m\u001b[0m\u001b[0m\n\u001b[0;32m----> 4\u001b[0;31m   \u001b[0mtime\u001b[0m\u001b[0;34m.\u001b[0m\u001b[0msleep\u001b[0m\u001b[0;34m(\u001b[0m\u001b[0;36m1\u001b[0m\u001b[0;34m/\u001b[0m\u001b[0;36m2\u001b[0m\u001b[0;34m)\u001b[0m\u001b[0;34m\u001b[0m\u001b[0;34m\u001b[0m\u001b[0m\n\u001b[0m",
            "\u001b[0;31mKeyboardInterrupt\u001b[0m: "
          ]
        }
      ]
    }
  ]
}