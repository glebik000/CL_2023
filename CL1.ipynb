{
  "nbformat": 4,
  "nbformat_minor": 0,
  "metadata": {
    "colab": {
      "provenance": [],
      "collapsed_sections": [
        "_CTKumuZGBRG"
      ],
      "include_colab_link": true
    },
    "kernelspec": {
      "name": "python3",
      "display_name": "Python 3"
    },
    "language_info": {
      "name": "python"
    }
  },
  "cells": [
    {
      "cell_type": "markdown",
      "metadata": {
        "id": "view-in-github",
        "colab_type": "text"
      },
      "source": [
        "<a href=\"https://colab.research.google.com/github/glebik000/CL_2023/blob/main/CL1.ipynb\" target=\"_parent\"><img src=\"https://colab.research.google.com/assets/colab-badge.svg\" alt=\"Open In Colab\"/></a>"
      ]
    },
    {
      "cell_type": "code",
      "execution_count": 3,
      "metadata": {
        "id": "KoCCGpucZ8gu"
      },
      "outputs": [],
      "source": [
        "import requests # Загрузка новостей с сайта.\n",
        "from bs4 import BeautifulSoup # Превращалка html в текст.\n",
        "import re # Регулярные выражения."
      ]
    },
    {
      "cell_type": "markdown",
      "source": [
        "# Киберленинка"
      ],
      "metadata": {
        "id": "_CTKumuZGBRG"
      }
    },
    {
      "cell_type": "code",
      "source": [
        "domain = \"https://cyberleninka.ru\"\n",
        "searchAPI = \"https://cyberleninka.ru/api/search\"\n",
        "head = {\n",
        "  \"Origin\": \"https://cyberleninka.ru\",\n",
        "  \"Referer\": \"https://cyberleninka.ru/search?q=%D0%98%D1%81%D0%BA%D1%83%D1%81%D1%82%D0%B2%D0%B5%D0%BD%D0%BD%D1%8B%D0%B9%20%D0%B8%D0%BD%D1%82%D0%B5%D0%BB%D0%BB%D0%B5%D0%BA%D1%82&page=1\",\n",
        "\n",
        "  \"User-Agent\": \"Mozilla/5.0 (Macintosh; Intel Mac OS X 10_15_7) AppleWebKit/537.36 (KHTML, like Gecko) Chrome/113.0.0.0 Safari/537.36\",\n",
        "  \"sec-ch-ua\": \"\\\"Google Chrome\\\";v=\\\"113\\\", \\\"Chromium\\\";v=\\\"113\\\", \\\"Not-A.Brand\\\";v=\\\"24\\\"\",\n",
        "  \"sec-ch-ua-mobile\": \"?0\",\n",
        "  \"sec-ch-ua-platform\": \"macOS\",\n",
        "}\n",
        "\n",
        "site = \"https://cyberleninka.ru/\"\n",
        "request = \"search?q=%D0%98%D1%81%D0%BA%D1%83%D1%81%D1%82%D0%B2%D0%B5%D0%BD%D0%BD%D1%8B%D0%B9%20%D0%B8%D0%BD%D1%82%D0%B5%D0%BB%D0%BB%D0%B5%D0%BA%D1%82&\"\n",
        "page = \"page=\""
      ],
      "metadata": {
        "id": "R9mXcJxwhJUt"
      },
      "execution_count": null,
      "outputs": []
    },
    {
      "cell_type": "code",
      "source": [],
      "metadata": {
        "id": "f_CZF_Lko0E5"
      },
      "execution_count": null,
      "outputs": []
    },
    {
      "cell_type": "code",
      "source": [
        "resp = requests.post(searchAPI, headers=head)\n",
        "# resp.text"
      ],
      "metadata": {
        "id": "8q77x4aUmVvo"
      },
      "execution_count": null,
      "outputs": []
    },
    {
      "cell_type": "code",
      "source": [
        "resp = requests.post(\"https://cyberleninka.ru/search?q=%D0%98%D1%81%D0%BA%D1%83%D1%81%D1%82%D0%B2%D0%B5%D0%BD%D0%BD%D1%8B%D0%B9%20%D0%B8%D0%BD%D1%82%D0%B5%D0%BB%D0%BB%D0%B5%D0%BA%D1%82&page=1\")\n",
        "resp.text"
      ],
      "metadata": {
        "colab": {
          "base_uri": "https://localhost:8080/",
          "height": 1000
        },
        "id": "JqiXWzfomc3G",
        "outputId": "ca721d80-a862-47c7-e6b6-45e7c56e60ec"
      },
      "execution_count": null,
      "outputs": [
        {
          "output_type": "execute_result",
          "data": {
            "text/plain": [
              "'<!DOCTYPE html PUBLIC \"-//W3C//DTD XHTML 1.1//EN\" \"http://www.w3.org/TR/xhtml11/DTD/xhtml11.dtd\">\\n<html xmlns=\"http://www.w3.org/1999/xhtml\">\\n  <head>\\n    <meta http-equiv=\"Content-Type\" content=\"text/html; charset=utf-8\" />\\n    <meta name=\"viewport\" content=\"width=device-width, initial-scale=1\" />\\n    <meta name=\"format-detection\" content=\"telephone=no\" />\\n    <link rel=\"shortcut icon\" href=\"/favicon.ico\" type=\"image/x-icon\" />\\n    <link rel=\"canonical\" href=\"https://cyberleninka.ru/search?q=%D0%98%D1%81%D0%BA%D1%83%D1%81%D1%82%D0%B2%D0%B5%D0%BD%D0%BD%D1%8B%D0%B9%20%D0%B8%D0%BD%D1%82%D0%B5%D0%BB%D0%BB%D0%B5%D0%BA%D1%82&amp;page=1\" />\\n\\n    <title>Поиск научной информации в электронной библиотеке КиберЛенинка.</title>\\n    <meta name=\"keywords\" content=\"научный поиск научная информация поиск научной статьи и журнала литературы\" />\\n    <meta name=\"description\" content=\"Научная поисковая система по электронной библиотеке КиберЛенинка.\" />\\n\\n    <link rel=\"stylesheet\" media=\"all\" href=\"/app.css?2204636507\" />\\n    <link rel=\"preload\" href=\"/fonts/ProximaNovaBold.woff2\" as=\"font\" type=\"font/woff2\" crossorigin>\\n    <link rel=\"preload\" href=\"/fonts/ProximaNovaRegular.woff2\" as=\"font\" type=\"font/woff2\" crossorigin>\\n    <link rel=\"preload\" href=\"/fonts/ProximaNovaExtraCondensedLight.woff2\" as=\"font\" type=\"font/woff2\" crossorigin>\\n    \\n  <meta name=\"apple-mobile-web-app-capable\" content=\"yes\" />\\n\\n  <meta name=\"robots\" content=\"NOODP\" />\\n  <meta name=\"robots\" content=\"noyaca\" />\\n\\n  <meta property=\"og:url\" content=\"https://cyberleninka.ru/search?q=%D0%98%D1%81%D0%BA%D1%83%D1%81%D1%82%D0%B2%D0%B5%D0%BD%D0%BD%D1%8B%D0%B9%20%D0%B8%D0%BD%D1%82%D0%B5%D0%BB%D0%BB%D0%B5%D0%BA%D1%82&amp;page=1\" />\\n  <meta property=\"og:site_name\" content=\"КиберЛенинка\" />\\n  <meta property=\"og:title\" content=\"Поиск научной информации в электронной библиотеке КиберЛенинка.\" />\\n  <meta property=\"og:description\" content=\"Научная поисковая система по электронной библиотеке КиберЛенинка.\" />\\n  <meta property=\"og:type\" content=\"website\" />\\n  <meta property=\"og:image\" content=\"https://cyberleninka.ru/images/og/4.jpg\" />\\n  <meta property=\"og:image:width\" content=\"1074\" />\\n  <meta property=\"og:image:height\" content=\"480\" />\\n\\n  <meta name=\"twitter:card\" content=\"summary_large_image\" />\\n  <meta name=\"twitter:site\" content=\"@CyberLeninka\" />\\n\\n    \\n\\n<link rel=\"preconnect\" href=\"https://yastatic.net\">\\n<link rel=\"preconnect\" href=\"https://securepubads.g.doubleclick.net\">\\n<link rel=\"preconnect\" href=\"https://exchange.buzzoola.com\">\\n<link rel=\"preconnect\" href=\"https://pb.adriver.ru\">\\n<link rel=\"preconnect\" href=\"https://ad.mail.ru\">\\n<link rel=\"preconnect\" href=\"https://ads.betweendigital.com\">\\n<script src=\"https://yandex.ru/ads/system/header-bidding.js\" async></script>\\n<script>window.yaContextCb = window.yaContextCb || []</script>\\n<script src=\"https://yandex.ru/ads/system/context.js\" async></script>\\n<script src=\"https://content.adriver.ru/AdRiverFPS.js\" async></script>\\n<script>\\nconst adfoxBiddersMap = {\\n    \"myTarget\": \"763128\",\\n    \"betweenDigital\": \"793538\",\\n    \"adriver\": \"776589\",\\n    \"relap\": \"958503\",\\n    \"otm\": \"1460822\",\\n    \"getintent\": \"958501\",\\n    \"buzzoola\": \"769160\",\\n    \"segmento\": \"1458193\",\\n    \"sape\": \"1697231\",\\n    \"mediasniper\": \"2297743\",\\n    \"mediatoday\": \"2365797\"    \\n};\\n\\nif (window.innerWidth >= 768) {\\n  adUnits = [\\n      {\\n          \"code\": \"adfox_head\",\\n          \"sizes\": [\\n              [\\n                  970,\\n                  250\\n              ]\\n          ],\\n          \"bids\": [\\n              {\\n                  \"bidder\": \"myTarget\",\\n                  \"params\": {\\n                      \"placementId\": 320990\\n                  }\\n              },\\n              {\\n                  \"bidder\": \"betweenDigital\",\\n                  \"params\": {\\n                      \"placementId\": 2674177\\n                  }\\n              },\\n              {\\n                  \"bidder\": \"adriver\",\\n                  \"params\": {\\n                      \"placementId\": \"20:cyberleninka_970x250\",\\n                      \"additional\": {\"ext\": {\"query\": \"custom=10=20&cid=\" + localStorage.getItem(\\'adrcid\\')}}\\n                  }\\n              },\\n              {\\n                  \"bidder\": \"relap\",\\n                  \"params\": {\\n                      \"placementId\": \"Yp1iKekphZ5k2AgI\"\\n                  }\\n              },\\n              {\\n                  \"bidder\": \"otm\",\\n                  \"params\": {\\n                      \"placementId\": \"911\"\\n                  }\\n              },\\n              {\\n                  \"bidder\": \"getintent\",\\n                  \"params\": {\\n                      \"placementId\": \"134_cyberleninka.ru_desktop_adfox_head_970x250\"\\n                  }\\n              },\\n              {\\n                  \"bidder\": \"buzzoola\",\\n                  \"params\": {\\n                      \"placementId\": 1221042\\n                  }\\n              },\\n              {\\n                  \"bidder\": \"segmento\",\\n                  \"params\": {\\n                      \"placementId\": 212\\n                  }\\n              },\\n              {\\n                  \"bidder\": \"sape\",\\n                  \"params\": {\"placementId\": 821135}\\n              },\\n              {\\n                  \"bidder\": \"mediasniper\",\\n                  \"params\": {\"placementId\": 360005}\\n              }       \\n          ]\\n      },\\n      {\\n          \"code\": \"adfox_side1\",\\n          \"sizes\": [\\n              [\\n                  300,\\n                  600\\n              ]\\n          ],\\n          \"bids\": [\\n              {\\n                  \"bidder\": \"myTarget\",\\n                  \"params\": {\\n                      \"placementId\": 320974\\n                  }\\n              },\\n              {\\n                  \"bidder\": \"betweenDigital\",\\n                  \"params\": {\\n                      \"placementId\": 2673847\\n                  }\\n              },\\n              {\\n                  \"bidder\": \"adriver\",\\n                  \"params\": {\\n                      \"placementId\": \"20:cyberleninka_240x400_side1\",\\n                      \"additional\": {\"ext\": {\"query\": \"custom=10=20&cid=\" + localStorage.getItem(\\'adrcid\\')}},\\n                  }\\n              },\\n              {\\n                  \"bidder\": \"relap\",\\n                  \"params\": {\\n                      \"placementId\": \"IvPzS2uqiXOJRUVF\"\\n                  }\\n              },\\n              {\\n                  \"bidder\": \"otm\",\\n                  \"params\": {\\n                      \"placementId\": \"912\"\\n                  }\\n              },\\n              {\\n                  \"bidder\": \"getintent\",\\n                  \"params\": {\\n                      \"placementId\": \"134_cyberleninka.ru_desktop_adfox_side1_300x600\"\\n                  }\\n              },\\n              {\\n                  \"bidder\": \"buzzoola\",\\n                  \"params\": {\\n                      \"placementId\": 1221043\\n                  }\\n              },\\n              {\\n                  \"bidder\": \"segmento\",\\n                  \"params\": {\\n                      \"placementId\": 213\\n                  }\\n              },\\n              {\\n                  \"bidder\": \"sape\",\\n                  \"params\": {\"placementId\": 821136}\\n              },\\n              {\\n                  \"bidder\": \"mediasniper\",\\n                  \"params\": {\"placementId\": 360006}\\n              },\\n              {\\n                  \"bidder\": \"mediatoday\",\\n                  \"params\": {\"placementId\": 9682}\\n              }\\n          ]\\n      },\\n      {\\n          \"code\": \"adfox_side2\",\\n          \"sizes\": [\\n              [\\n                  300,\\n                  600\\n              ]\\n          ],\\n          \"bids\": [\\n              {\\n                  \"bidder\": \"myTarget\",\\n                  \"params\": {\\n                      \"placementId\": 320975\\n                  }\\n              },\\n              {\\n                  \"bidder\": \"betweenDigital\",\\n                  \"params\": {\\n                      \"placementId\": 2673848\\n                  }\\n              },\\n              {\\n                  \"bidder\": \"adriver\",\\n                  \"params\": {\\n                      \"placementId\": \"20:cyberleninka_240x400_side2\",\\n                      \"additional\": {\"ext\": {\"query\": \"custom=10=20&cid=\" + localStorage.getItem(\\'adrcid\\')}},\\n                  }\\n              },\\n              {\\n                  \"bidder\": \"relap\",\\n                  \"params\": {\\n                      \"placementId\": \"xjnGHd0db3SOEMLC\"\\n                  }\\n              },\\n              {\\n                  \"bidder\": \"otm\",\\n                  \"params\": {\\n                      \"placementId\": \"913\"\\n                  }\\n              },\\n              {\\n                  \"bidder\": \"getintent\",\\n                  \"params\": {\\n                      \"placementId\": \"134_cyberleninka.ru_desktop_adfox_side2_300x600\"\\n                  }\\n              },\\n              {\\n                  \"bidder\": \"buzzoola\",\\n                  \"params\": {\\n                      \"placementId\": 1221044\\n                  }\\n              },\\n              {\\n                  \"bidder\": \"segmento\",\\n                  \"params\": {\\n                      \"placementId\": 214\\n                  }\\n              },\\n              {\\n                  \"bidder\": \"sape\",\\n                  \"params\": {\"placementId\": 821138}\\n              },\\n              {\\n                  \"bidder\": \"mediasniper\",\\n                  \"params\": {\"placementId\": 360007}\\n              },\\n              {\\n                  \"bidder\": \"mediatoday\",\\n                  \"params\": {\"placementId\": 9682}\\n              }\\n          ]\\n      },\\n      {\\n          \"code\": \"adfox_top1\",\\n          \"sizes\": [\\n              [\\n                  300,\\n                  250\\n              ]\\n          ],\\n          \"bids\": [\\n              {\\n                  \"bidder\": \"myTarget\",\\n                  \"params\": {\\n                      \"placementId\": 320978\\n                  }\\n              },\\n              {\\n                  \"bidder\": \"betweenDigital\",\\n                  \"params\": {\\n                      \"placementId\": 2673849\\n                  }\\n              },\\n              {\\n                  \"bidder\": \"adriver\",\\n                  \"params\": {\\n                      \"placementId\": \"20:cyberleninka_300x250_1\",\\n                      \"additional\": {\"ext\": {\"query\": \"custom=10=20&cid=\" + localStorage.getItem(\\'adrcid\\')}},\\n                  }\\n              },\\n              {\\n                  \"bidder\": \"relap\",\\n                  \"params\": {\\n                      \"placementId\": \"mGeYUpJSanGLjVlZ\"\\n                  }\\n              },\\n              {\\n                  \"bidder\": \"otm\",\\n                  \"params\": {\\n                      \"placementId\": \"914\"\\n                  }\\n              },\\n              {\\n                  \"bidder\": \"getintent\",\\n                  \"params\": {\\n                      \"placementId\": \"134_cyberleninka.ru_desktop_adfox_top1_300x250\"\\n                  }\\n              },\\n              {\\n                  \"bidder\": \"buzzoola\",\\n                  \"params\": {\\n                      \"placementId\": 1221045\\n                  }\\n              },\\n              {\\n                  \"bidder\": \"segmento\",\\n                  \"params\": {\\n                      \"placementId\": 215\\n                  }\\n              },\\n              {\\n                  \"bidder\": \"sape\",\\n                  \"params\": {\"placementId\": 821140}\\n              },\\n              {\\n                  \"bidder\": \"mediasniper\",\\n                  \"params\": {\"placementId\": 360008}\\n              },\\n              {\\n                  \"bidder\": \"mediatoday\",\\n                  \"params\": {\"placementId\": 9675}\\n              }\\n          ]\\n      },\\n      {\\n          \"code\": \"adfox_top2\",\\n          \"sizes\": [\\n              [\\n                  300,\\n                  250\\n              ]\\n          ],\\n          \"bids\": [\\n              {\\n                  \"bidder\": \"myTarget\",\\n                  \"params\": {\\n                      \"placementId\": 320979\\n                  }\\n              },\\n              {\\n                  \"bidder\": \"betweenDigital\",\\n                  \"params\": {\\n                      \"placementId\": 2673850\\n                  }\\n              },\\n              {\\n                  \"bidder\": \"relap\",\\n                  \"params\": {\\n                      \"placementId\": \"VIeHbEyN6xHr4uLi \"\\n                  }\\n              },\\n              {\\n                  \"bidder\": \"otm\",\\n                  \"params\": {\\n                      \"placementId\": \"915\"\\n                  }\\n              },\\n              {\\n                  \"bidder\": \"getintent\",\\n                  \"params\": {\\n                      \"placementId\": \"134_cyberleninka.ru_desktop_adfox_top2_300x250\"\\n                  }\\n              },\\n              {\\n                  \"bidder\": \"buzzoola\",\\n                  \"params\": {\\n                      \"placementId\": 1221046\\n                  }\\n              },\\n              {\\n                  \"bidder\": \"segmento\",\\n                  \"params\": {\\n                      \"placementId\": 216\\n                  }\\n              },\\n              {\\n                  \"bidder\": \"sape\",\\n                  \"params\": {\"placementId\": 821142}\\n              },\\n              {\\n                  \"bidder\": \"mediasniper\",\\n                  \"params\": {\"placementId\": 360009}\\n              },\\n              {\\n                  \"bidder\": \"mediatoday\",\\n                  \"params\": {\"placementId\": 9676}\\n              }\\n          ]\\n      },\\n      {\\n          \"code\": \"adfox_mid1\",\\n          \"sizes\": [\\n              [\\n                  300,\\n                  250\\n              ]\\n          ],\\n          \"bids\": [\\n              {\\n                  \"bidder\": \"myTarget\",\\n                  \"params\": {\\n                      \"placementId\": 320982\\n                  }\\n              },\\n              {\\n                  \"bidder\": \"betweenDigital\",\\n                  \"params\": {\\n                      \"placementId\": 2673851\\n                  }\\n              },\\n              {\\n                  \"bidder\": \"relap\",\\n                  \"params\": {\\n                      \"placementId\": \"d6KiiqprV61XoKCg\"\\n                  }\\n              },\\n              {\\n                  \"bidder\": \"otm\",\\n                  \"params\": {\\n                      \"placementId\": \"916\"\\n                  }\\n              },\\n              {\\n                  \"bidder\": \"getintent\",\\n                  \"params\": {\\n                      \"placementId\": \"134_cyberleninka.ru_desktop_adfox_mid1_300x250\"\\n                  }\\n              },\\n              {\\n                  \"bidder\": \"buzzoola\",\\n                  \"params\": {\\n                      \"placementId\": 1221047\\n                  }\\n              },\\n              {\\n                  \"bidder\": \"segmento\",\\n                  \"params\": {\\n                      \"placementId\": 217\\n                  }\\n              },\\n              {\\n                  \"bidder\": \"sape\",\\n                  \"params\": {\"placementId\": 821143}\\n              },\\n              {\\n                  \"bidder\": \"mediasniper\",\\n                  \"params\": {\"placementId\": 360010}\\n              },\\n              {\\n                  \"bidder\": \"mediatoday\",\\n                  \"params\": {\"placementId\": 9677}\\n              }\\n          ]\\n      },\\n      {\\n          \"code\": \"adfox_mid2\",\\n          \"sizes\": [\\n              [\\n                  300,\\n                  250\\n              ]\\n          ],\\n          \"bids\": [\\n              {\\n                  \"bidder\": \"myTarget\",\\n                  \"params\": {\\n                      \"placementId\": 320983\\n                  }\\n              },\\n              {\\n                  \"bidder\": \"betweenDigital\",\\n                  \"params\": {\\n                      \"placementId\": 2673852\\n                  }\\n              },\\n              {\\n                  \"bidder\": \"relap\",\\n                  \"params\": {\\n                      \"placementId\": \"AP8AzAzMWUK4WI6O\"\\n                  }\\n              },\\n              {\\n                  \"bidder\": \"otm\",\\n                  \"params\": {\\n                      \"placementId\": \"917\"\\n                  }\\n              },\\n              {\\n                  \"bidder\": \"getintent\",\\n                  \"params\": {\\n                      \"placementId\": \"134_cyberleninka.ru_desktop_adfox_mid2_300x250\"\\n                  }\\n              },\\n              {\\n                  \"bidder\": \"buzzoola\",\\n                  \"params\": {\\n                      \"placementId\": 1221048\\n                  }\\n              },\\n              {\\n                  \"bidder\": \"segmento\",\\n                  \"params\": {\\n                      \"placementId\": 218\\n                  }\\n              },\\n              {\\n                  \"bidder\": \"sape\",\\n                  \"params\": {\"placementId\": 821144}\\n              },\\n              {\\n                  \"bidder\": \"mediasniper\",\\n                  \"params\": {\"placementId\": 360011}\\n              },\\n              {\\n                  \"bidder\": \"mediatoday\",\\n                  \"params\": {\"placementId\": 9678}\\n              }\\n          ]\\n      },\\n      {\\n          \"code\": \"adfox_bot1\",\\n          \"sizes\": [\\n              [\\n                  300,\\n                  250\\n              ]\\n          ],\\n          \"bids\": [\\n              {\\n                  \"bidder\": \"myTarget\",\\n                  \"params\": {\\n                      \"placementId\": 320985\\n                  }\\n              },\\n              {\\n                  \"bidder\": \"betweenDigital\",\\n                  \"params\": {\\n                      \"placementId\": 2673854\\n                  }\\n              },\\n              {\\n                  \"bidder\": \"relap\",\\n                  \"params\": {\\n                      \"placementId\": \"n2CfFdUVkYpw9Cws\"\\n                  }\\n              },\\n              {\\n                  \"bidder\": \"otm\",\\n                  \"params\": {\\n                      \"placementId\": \"918\"\\n                  }\\n              },\\n              {\\n                  \"bidder\": \"getintent\",\\n                  \"params\": {\\n                      \"placementId\": \"134_cyberleninka.ru_desktop_adfox_bot1_300x250\"\\n                  }\\n              },\\n              {\\n                  \"bidder\": \"buzzoola\",\\n                  \"params\": {\\n                      \"placementId\": 1221049\\n                  }\\n              },\\n              {\\n                  \"bidder\": \"segmento\",\\n                  \"params\": {\\n                      \"placementId\": 219\\n                  }\\n              },\\n              {\\n                  \"bidder\": \"sape\",\\n                  \"params\": {\"placementId\": 821145}\\n              },\\n              {\\n                  \"bidder\": \"mediasniper\",\\n                  \"params\": {\"placementId\": 360012}\\n              },\\n              {\\n                  \"bidder\": \"mediatoday\",\\n                  \"params\": {\"placementId\": 9679}\\n              }\\n          ]\\n      },\\n      {\\n          \"code\": \"adfox_bot2\",\\n          \"sizes\": [\\n              [\\n                  300,\\n                  250\\n              ]\\n          ],\\n          \"bids\": [\\n              {\\n                  \"bidder\": \"myTarget\",\\n                  \"params\": {\\n                      \"placementId\": 320988\\n                  }\\n              },\\n              {\\n                  \"bidder\": \"betweenDigital\",\\n                  \"params\": {\\n                      \"placementId\": 2673853\\n                  }\\n              },\\n              {\\n                  \"bidder\": \"relap\",\\n                  \"params\": {\\n                      \"placementId\": \"FMPDg6NiNc81-Pj4\"\\n                  }\\n              },\\n              {\\n                  \"bidder\": \"otm\",\\n                  \"params\": {\\n                      \"placementId\": \"919\"\\n                  }\\n              },\\n              {\\n                  \"bidder\": \"getintent\",\\n                  \"params\": {\\n                      \"placementId\": \"134_cyberleninka.ru_desktop_adfox_bot2_300x250\"\\n                  }\\n              },\\n              {\\n                  \"bidder\": \"buzzoola\",\\n                  \"params\": {\\n                      \"placementId\": 1221050\\n                  }\\n              },\\n              {\\n                  \"bidder\": \"segmento\",\\n                  \"params\": {\\n                      \"placementId\": 220\\n                  }\\n              },\\n              {\\n                  \"bidder\": \"sape\",\\n                  \"params\": {\"placementId\": 821146}\\n              },\\n              {\\n                  \"bidder\": \"mediasniper\",\\n                  \"params\": {\"placementId\": 360013}\\n              },\\n              {\\n                  \"bidder\": \"mediatoday\",\\n                  \"params\": {\"placementId\": 9680}\\n              }\\n          ]\\n      }\\n  ];\\n\\n  var userTimeout = 1200;\\n\\n  window.YaHeaderBiddingSettings = {\\n    biddersMap: adfoxBiddersMap,\\n    adUnits: adUnits,\\n    timeout: userTimeout\\n  };\\n} else {\\n  adUnits = [\\n      {\\n          \"code\": \"adfox_top1\",\\n          \"sizes\": [\\n              [\\n                  300,\\n                  250\\n              ]\\n          ],\\n          \"bids\": [\\n              {\\n                  \"bidder\": \"myTarget\",\\n                  \"params\": {\\n                      \"placementId\": 320966\\n                  }\\n              },\\n              {\\n                  \"bidder\": \"betweenDigital\",\\n                  \"params\": {\\n                      \"placementId\": 2673855\\n                  }\\n              },\\n              {\\n                  \"bidder\": \"adriver\",\\n                  \"params\": {\\n                      \"placementId\": \"20:cyberleninka_300x250mob_1\",\\n                      \"additional\": {\"ext\": {\"query\": \"custom=10=20&cid=\" + localStorage.getItem(\\'adrcid\\')}},\\n                  }\\n              },\\n              {\\n                  \"bidder\": \"relap\",\\n                  \"params\": {\\n                      \"placementId\": \"3CPcIuIiytEraKam\"\\n                  }\\n              },\\n              {\\n                  \"bidder\": \"otm\",\\n                  \"params\": {\\n                      \"placementId\": \"907\"\\n                  }\\n              },\\n              {\\n                  \"bidder\": \"getintent\",\\n                  \"params\": {\\n                      \"placementId\": \"134_cyberleninka.ru_mobile_adfox_mob1_300x250\"\\n                  }\\n              },\\n              {\\n                  \"bidder\": \"buzzoola\",\\n                  \"params\": {\\n                      \"placementId\": 1221037\\n                  }\\n              },\\n              {\\n                  \"bidder\": \"segmento\",\\n                  \"params\": {\\n                      \"placementId\": 208\\n                  }\\n              },\\n              {\\n                  \"bidder\": \"sape\",\\n                  \"params\": {\"placementId\": 821190}\\n              },\\n              {\\n                  \"bidder\": \"mediasniper\",\\n                  \"params\": {\"placementId\": 360001}\\n              },\\n              {\\n                  \"bidder\": \"mediatoday\",\\n                  \"params\": {\"placementId\": 9671}\\n              }\\n          ]\\n      },\\n      {\\n          \"code\": \"adfox_mid1\",\\n          \"sizes\": [\\n              [\\n                  300,\\n                  250\\n              ]\\n          ],\\n          \"bids\": [\\n              {\\n                  \"bidder\": \"myTarget\",\\n                  \"params\": {\\n                      \"placementId\": 320968\\n                  }\\n              },\\n              {\\n                  \"bidder\": \"betweenDigital\",\\n                  \"params\": {\\n                      \"placementId\": 2673856\\n                  }\\n              },\\n              {\\n                  \"bidder\": \"adriver\",\\n                  \"params\": {\\n                      \"placementId\": \"20:cyberleninka_300x250mob_2\",\\n                      \"additional\": {\"ext\": {\"query\": \"custom=10=20&cid=\" + localStorage.getItem(\\'adrcid\\')}},\\n                  }\\n              },\\n              {\\n                  \"bidder\": \"relap\",\\n                  \"params\": {\\n                      \"placementId\": \"IO3tt5dW0SvRU1NT\"\\n                  }\\n              },\\n              {\\n                  \"bidder\": \"otm\",\\n                  \"params\": {\\n                      \"placementId\": \"908\"\\n                  }\\n              },\\n              {\\n                  \"bidder\": \"getintent\",\\n                  \"params\": {\\n                      \"placementId\": \"134_cyberleninka.ru_mobile_adfox_mob2_300x250\"\\n                  }\\n              },\\n              {\\n                  \"bidder\": \"buzzoola\",\\n                  \"params\": {\\n                      \"placementId\": 1221039\\n                  }\\n              },\\n              {\\n                  \"bidder\": \"segmento\",\\n                  \"params\": {\\n                      \"placementId\": 209\\n                  }\\n              },\\n              {\\n                  \"bidder\": \"sape\",\\n                  \"params\": {\"placementId\": 821191}\\n              },\\n              {\\n                  \"bidder\": \"mediasniper\",\\n                  \"params\": {\"placementId\": 360002}\\n              },\\n              {\\n                  \"bidder\": \"mediatoday\",\\n                  \"params\": {\"placementId\": 9672}\\n              }\\n          ]\\n      },\\n      {\\n          \"code\": \"adfox_bot1\",\\n          \"sizes\": [\\n              [\\n                  300,\\n                  250\\n              ]\\n          ],\\n          \"bids\": [\\n              {\\n                  \"bidder\": \"myTarget\",\\n                  \"params\": {\\n                      \"placementId\": 320969\\n                  }\\n              },\\n              {\\n                  \"bidder\": \"betweenDigital\",\\n                  \"params\": {\\n                      \"placementId\": 2673857\\n                  }\\n              },\\n              {\\n                  \"bidder\": \"adriver\",\\n                  \"params\": {\\n                      \"placementId\": \"20:cyberleninka_300x250mob_3\",\\n                      \"additional\": {\"ext\": {\"query\": \"custom=10=20&cid=\" + localStorage.getItem(\\'adrcid\\')}},\\n                  }\\n              },\\n              {\\n                  \"bidder\": \"relap\",\\n                  \"params\": {\\n                      \"placementId\": \"T7BPrGysPSbc4S0t\"\\n                  }\\n              },\\n              {\\n                  \"bidder\": \"otm\",\\n                  \"params\": {\\n                      \"placementId\": \"909\"\\n                  }\\n              },\\n              {\\n                  \"bidder\": \"getintent\",\\n                  \"params\": {\\n                      \"placementId\": \"134_cyberleninka.ru_mobile_adfox_mob3_300x250\"\\n                  }\\n              },\\n              {\\n                  \"bidder\": \"buzzoola\",\\n                  \"params\": {\\n                      \"placementId\": 1221040\\n                  }\\n              },\\n              {\\n                  \"bidder\": \"segmento\",\\n                  \"params\": {\\n                      \"placementId\": 210\\n                  }\\n              },\\n              {\\n                  \"bidder\": \"sape\",\\n                  \"params\": {\"placementId\": 821192}\\n              },\\n              {\\n                  \"bidder\": \"mediasniper\",\\n                  \"params\": {\"placementId\": 360003}\\n              },\\n              {\\n                  \"bidder\": \"mediatoday\",\\n                  \"params\": {\"placementId\": 9673}\\n              }\\n          ]\\n      },\\n      {\\n          \"code\": \"adfox_bot3\",\\n          \"sizes\": [\\n              [\\n                  300,\\n                  250\\n              ]\\n          ],\\n          \"bids\": [\\n              {\\n                  \"bidder\": \"myTarget\",\\n                  \"params\": {\\n                      \"placementId\": 320971\\n                  }\\n              },\\n              {\\n                  \"bidder\": \"betweenDigital\",\\n                  \"params\": {\\n                      \"placementId\": 2673858\\n                  }\\n              },\\n              {\\n                  \"bidder\": \"relap\",\\n                  \"params\": {\\n                      \"placementId\": \"3xAQS2uquUO5_f39\"\\n                  }\\n              },\\n              {\\n                  \"bidder\": \"otm\",\\n                  \"params\": {\\n                      \"placementId\": \"910\"\\n                  }\\n              },\\n              {\\n                  \"bidder\": \"getintent\",\\n                  \"params\": {\\n                      \"placementId\": \"134_cyberleninka.ru_mobile_adfox_mob4_300x250\"\\n                  }\\n              },\\n              {\\n                  \"bidder\": \"buzzoola\",\\n                  \"params\": {\\n                      \"placementId\": 1221041\\n                  }\\n              },\\n              {\\n                  \"bidder\": \"segmento\",\\n                  \"params\": {\\n                      \"placementId\": 211\\n                  }\\n              },\\n              {\\n                  \"bidder\": \"sape\",\\n                  \"params\": {\"placementId\": 821193}\\n              },\\n              {\\n                  \"bidder\": \"mediasniper\",\\n                  \"params\": {\"placementId\": 360004}\\n              },\\n              {\\n                  \"bidder\": \"mediatoday\",\\n                  \"params\": {\"placementId\": 9674}\\n              }\\n          ]\\n      }\\n  ];\\n\\n  var userTimeout = 1200;\\n\\n  window.YaHeaderBiddingSettings = {\\n    biddersMap: adfoxBiddersMap,\\n    adUnits: adUnits,\\n    timeout: userTimeout\\n  };\\n}\\n</script>\\n\\n\\n  </head>\\n\\n  <body id=\"body\">\\n    <div id=\"vk_api_transport\"></div>\\n    <div id=\"menu\" style=\"height: 55px;\"></div>\\n\\n    <div class=\"content\" style=\"overflow: visible;\">\\n      <div class=\"main\">\\n        \\n<div class=\"search\" id=\"search\">Полнотекстовый поиск осуществляется по названиям статей, авторам, аннотациям, ключевым словам, а также по распознанным текстам (OCR). Возвращаются только первые несколько сотен релевантных документов, поэтому если вы не нашли то что хотели на 4-5 странице, попробуйте уточнить свой поиск с помощью языка запросов. Кроме того, результаты поиска сортируются по релевантности, а не по дате. Чтобы найти новые статьи, попробуйте использовать фильтр по годам для отображения недавно опубликованных научных статей, отсортированных по релевантности. Чтобы найти статьи, относящиеся к конкретной научной области или опубликованные в конкретном журнале, попробуйте использовать фильтры по теме каталога OECD или журналу.</div>\\n<div class=\"bibloid_serp\"><i>i</i><span>Не можете найти то, что вам нужно? Попробуйте&nbsp;сервис <a target=\"_blank\" onclick=\"ga(\\'send\\', \\'event\\', \\'user\\', \\'b_search_click\\');\" href=\"https://bibloid.ru/?utm_source=cyberleninka.ru&utm_medium=search&utm_campaign=top\">подбора литературы</a>.</span></div>\\n\\n\\n<div class=\"left-banner\" style=\"width: 300px; margin-left: -320px; height: 4096px; display: flex; justify-content: space-around; align-items: flex-start;\">\\n  <div id=\"ad-left\" class=\"ad-adaptive\" style=\"position: -webkit-sticky; position: sticky; top: 40px; background: transparent;\">\\n    <div id=\"adfox_side1\"></div>\\n    <div id=\"crt-4f158390\" style=\"width:300px;height:600px;\" class=\"mobhide\"></div>\\n  </div>\\n</div>\\n\\n<div class=\"right-banner\" style=\"margin-left: 740px; height: 4096px; display: flex; justify-content: space-around; align-items: flex-start;\">\\n  <div id=\"ad-right\" class=\"ad-adaptive\" style=\"position: -webkit-sticky; position: sticky; top: 40px; background: transparent;\">\\n    <div id=\"adfox_side2\"></div>\\n    <div id=\"crt-4f158390-1\" style=\"width:300px;height:600px;\" class=\"mobhide\"></div>\\n  </div>\\n</div>\\n\\n\\n\\n        <div class=\"footer\">\\n          <hr />\\n          <div class=\"half\">\\n            <a href=\"/terms.html\" target=\"_blank\">Пользовательское соглашение</a>\\n            <a href=\"/policy.html\" target=\"_blank\">Политика конфиденциальности</a>\\n          </div>\\n          <div class=\"half-right\">\\n            <a style=\"margin-top: 5px;\" class=\"openscience\" href=\"http://open-science.ru/\" target=\"_blank\"><img src=\"/images/openscience.svg\" alt=\"Открытая наука\" /></a>\\n          </div>\\n        </div>\\n      </div>\\n    </div>\\n\\n    \\n    <script type=\"text/javascript\" src=\"/app.js?3196735396\" defer></script>\\n    \\n    <script type=\"text/javascript\">\\n      \\n\\n      window.__cl = function (f) {\\n        if (!window.__cl_callbacks) {\\n          window.__cl_callbacks = [];\\n        }\\n        window.__cl_callbacks.push(f);\\n      };\\n\\n      window.__cl(function(app) {\\n        var app = app.element(app.elm.Menu, \\'menu\\', { user: window.__cl_user, id: \"\", path: \"/search\" });\\n        if (app == null) { return; }\\n        window.notify.login = function() {\\n          app.ports.showLoginSub.send();\\n        }\\n      });\\n      window.__cl(function(app) {\\n        app.element(app.elm.Notification.Persist, \\'notification-persist\\', {\\n          cookie: document.cookie\\n        });\\n      })\\n    </script>\\n\\n    \\n  \\n  <script type=\"text/javascript\">(window.Image ? (new Image()) : document.createElement(\\'img\\')).src = \\'https://vk.com/rtrg?p=VK-RTRG-113217-3vhqF\\';</script>\\n  <script type=\"text/javascript\">\\n    (window.Image ? (new Image()) : document.createElement(\\'img\\')).src = location.protocol + \\'//vk.com/rtrg?r=pBktsqObaAtvToEtTxQbb/cxSGdswTMQ5wcdtediEFrGEy1Rbzr/IMae3Notd2g/GdggCzMzIdcwjWAsDf7M*I1hGYLGK2Uho4KO3yct6a3PDEHu/PU3m87/qEKB5u005s5BZOxtV0KGfmxRfV5X4n3kmNOYtnudE89WXjBuKsQ-\\';\\n  </script>\\n  \\n\\n\\n<script type=\"text/javascript\" >\\n   (function(m,e,t,r,i,k,a){m[i]=m[i]||function(){(m[i].a=m[i].a||[]).push(arguments)};\\n   m[i].l=1*new Date();k=e.createElement(t),a=e.getElementsByTagName(t)[0],k.async=1,k.src=r,a.parentNode.insertBefore(k,a)})\\n   (window, document, \"script\", \"https://mc.yandex.ru/metrika/tag.js\", \"ym\");\\n\\n   ym(15765706, \"init\", {\\n        clickmap:true,\\n        trackLinks:true,\\n        accurateTrackBounce:true\\n   });\\n</script>\\n<noscript><div><img src=\"https://mc.yandex.ru/watch/15765706\" style=\"position:absolute; left:-9999px;\" alt=\"\" /></div></noscript>\\n\\n\\n  \\n  <script type=\"text/javascript\">\\n    (function(i,s,o,g,r,a,m){i[\\'GoogleAnalyticsObject\\']=r;i[r]=i[r]||function(){\\n    (i[r].q=i[r].q||[]).push(arguments)},i[r].l=1*new Date();a=s.createElement(o),\\n    m=s.getElementsByTagName(o)[0];a.async=1;a.src=g;m.parentNode.insertBefore(a,m)\\n    })(window,document,\\'script\\',\\'https://www.google-analytics.com/analytics.js\\',\\'ga\\');\\n\\n    ga(\\'create\\', \\'UA-33095299-1\\', \\'auto\\');\\n    ga(\\'send\\', \\'pageview\\');\\n  </script>\\n  \\n\\n\\n    \\n\\n<script>\\n  var adfox = function(id, params) {\\n\\twindow.yaContextCb.push(()=>{\\n\\t    Ya.adfoxCode.create({\\n\\t      ownerId: 254948,\\n\\t      containerId: id,\\n\\t      params: params\\n\\t    });\\n\\t  });\\n  }\\n  if (window.innerWidth >= 1360) {\\n    adfox(\\'adfox_side1\\',{\\n      pp: \\'noj\\',\\n      ps: \\'czgi\\',\\n      p2: \\'fvyf\\',\\n      puid1: \\'\\'\\n    });\\n    adfox(\\'adfox_side2\\', {\\n      pp: \\'nok\\',\\n      ps: \\'czgi\\',\\n      p2: \\'fvyf\\',\\n      puid1: \\'\\'\\n    });\\n  }\\n</script>\\n\\n\\n<script type=\"text/javascript\">\\nwindow.__cl(function(app) {\\n  app.element(app.elm.Search, \\'search\\', {\\n    url: window.location.href\\n  });\\n});\\n</script>\\n\\n\\n\\n    <div id=\"notification-flash\"></div>\\n    <div class=\"info\"><div id=\"notification-persist\"></div></div>\\n  </body>\\n</html>\\n'"
            ],
            "application/vnd.google.colaboratory.intrinsic+json": {
              "type": "string"
            }
          },
          "metadata": {},
          "execution_count": 37
        }
      ]
    },
    {
      "cell_type": "code",
      "source": [
        "resp = requests.get(site+request+page+\"1\")\n",
        "dir(resp.request.path_url)\n",
        "domain+resp.request.path_url\n",
        "len(resp.text)"
      ],
      "metadata": {
        "colab": {
          "base_uri": "https://localhost:8080/"
        },
        "id": "CaRfHttrgNRO",
        "outputId": "593bc424-c76d-4975-a03d-3fb4b3a87727"
      },
      "execution_count": null,
      "outputs": [
        {
          "output_type": "execute_result",
          "data": {
            "text/plain": [
              "34523"
            ]
          },
          "metadata": {},
          "execution_count": 34
        }
      ]
    },
    {
      "cell_type": "code",
      "source": [
        "BeautifulSoup(resp.text, \"html5lib\").find_all(\"div\", {\"class\": \"search\"})"
      ],
      "metadata": {
        "colab": {
          "base_uri": "https://localhost:8080/"
        },
        "id": "t5oDczEtiueS",
        "outputId": "d1e4e05d-142b-4d43-d00f-44912a28104a"
      },
      "execution_count": null,
      "outputs": [
        {
          "output_type": "execute_result",
          "data": {
            "text/plain": [
              "[<div class=\"search\" id=\"search\">Полнотекстовый поиск осуществляется по названиям статей, авторам, аннотациям, ключевым словам, а также по распознанным текстам (OCR). Возвращаются только первые несколько сотен релевантных документов, поэтому если вы не нашли то что хотели на 4-5 странице, попробуйте уточнить свой поиск с помощью языка запросов. Кроме того, результаты поиска сортируются по релевантности, а не по дате. Чтобы найти новые статьи, попробуйте использовать фильтр по годам для отображения недавно опубликованных научных статей, отсортированных по релевантности. Чтобы найти статьи, относящиеся к конкретной научной области или опубликованные в конкретном журнале, попробуйте использовать фильтры по теме каталога OECD или журналу.</div>]"
            ]
          },
          "metadata": {},
          "execution_count": 35
        }
      ]
    },
    {
      "cell_type": "code",
      "source": [
        "# Теперь выделим только то, что взято в тег h3.\n",
        "lists = BeautifulSoup(resp.text, \"html5lib\").find_all(\"li\")\n",
        "# Формируем список ссылок. Для этого берем первую (кстати, единственную) ссылку из каждого выделенного\n",
        "# фрагмента, у нее берем значение параметра href. Так как ссылки внутренние, добавляем к ним адрес сайта.\n",
        "print(lists)\n",
        "links = [site+l.find_all(\"a\")[0][\"href\"] for l in lists]\n",
        "print(links)"
      ],
      "metadata": {
        "colab": {
          "base_uri": "https://localhost:8080/"
        },
        "id": "eCeXlyOoh5bT",
        "outputId": "4d952ba7-e754-49e8-dd83-482d71cd189b"
      },
      "execution_count": null,
      "outputs": [
        {
          "output_type": "stream",
          "name": "stdout",
          "text": [
            "[]\n",
            "[]\n"
          ]
        }
      ]
    },
    {
      "cell_type": "code",
      "source": [
        "# Получили объект BeautifulSoup и скормили ему текст страницы.\n",
        "bs = BeautifulSoup(resp.text, \"html5lib\") \n",
        "# Вот таким образом можно попросить отдать первый тег, отмеченный как h1. Вместо h1 можно написать любой другой тег.\n",
        "title = bs.h1.text\n",
        "# Получаем все параграфы (тег p), берем их текст без тегов и склеиваем в один текст.\n",
        "text = \" \".join([p.text for p in bs.find_all(\"p\")])\n",
        "print(title, \"\\n-----\\n\", text)"
      ],
      "metadata": {
        "id": "dPNXYpSwhFtF"
      },
      "execution_count": null,
      "outputs": []
    },
    {
      "cell_type": "markdown",
      "source": [
        "# Пробуем IXBT.\n"
      ],
      "metadata": {
        "id": "PpjOiC9sPluJ"
      }
    },
    {
      "cell_type": "code",
      "source": [
        "# https://www.ixbt.com/news/2023/05/23/\n",
        "# Разбиваем на части.\n",
        "IXBTHandler = \"https://www.ixbt.com/news/\"\n",
        "IXBTDomain = \"https://www.ixbt.com\"\n",
        "IXBTDate = \"2023/05/23/\""
      ],
      "metadata": {
        "id": "5QK9xuS5RTMQ"
      },
      "execution_count": 4,
      "outputs": []
    },
    {
      "cell_type": "code",
      "source": [
        "IXBTresp = requests.get(IXBTHandler + IXBTDate)"
      ],
      "metadata": {
        "id": "vhRYIlXXQSXj"
      },
      "execution_count": 5,
      "outputs": []
    },
    {
      "cell_type": "code",
      "source": [
        "BeautifulSoup(IXBTresp.text, \"html5lib\").find_all(\"div\", {\"class\": \"b-block block__newslistdefault b-lined-title\"})"
      ],
      "metadata": {
        "id": "ZFyK9uChTAyU"
      },
      "execution_count": null,
      "outputs": []
    },
    {
      "cell_type": "code",
      "source": [
        "IXBTsouped = BeautifulSoup(IXBTresp.text, \"html5lib\").find_all(\"a\", {\"class\": \"item__text--title\"})"
      ],
      "metadata": {
        "id": "xenJk6RrTxK1"
      },
      "execution_count": 7,
      "outputs": []
    },
    {
      "cell_type": "code",
      "source": [
        "IXBTNewsLinks = []\n",
        "for IXBTlink in IXBTsouped:\n",
        "  print(IXBTlink[\"href\"])\n",
        "  IXBTNewsLinks.append(IXBTDomain+IXBTlink[\"href\"])\n",
        "# IXBTsouped[0][\"href\"]"
      ],
      "metadata": {
        "colab": {
          "base_uri": "https://localhost:8080/"
        },
        "id": "RYvWYZS4Ye_p",
        "outputId": "c49727ba-1400-4269-9aa8-18b1a6d49a6c"
      },
      "execution_count": 10,
      "outputs": [
        {
          "output_type": "stream",
          "name": "stdout",
          "text": [
            "/news/2023/05/23/winrar-windows-11-tar-7-zip-rar-gz.html\n",
            "/news/2023/05/23/xiaomi-civi-3.html\n",
            "/news/2023/05/23/amazon-predstavila-svoj-samyj-bolshoj-proizvoditelnyj-i-dorogoj-planshet.html\n",
            "/news/2023/05/23/apple-final-cut-pro-logic-pro-ipad.html\n",
            "/news/2023/05/23/microsoft-chatgpt-windows-11.html\n",
            "/news/2023/05/23/mnogie-prakticheski-ne-vypuskajut-smartfon-iz-ruk-tret-rossijan-bojatsja-poterjat-smartfon-i-ispytyvajut-fantomnye.html\n",
            "/news/2023/05/23/amd-cpu-ryzen-athlon-7020c-series.html\n",
            "/news/2023/05/23/radeon-rx-7600-270-34-rx-6600.html\n",
            "/news/2023/05/23/5000-120-1-5-144-dimensity-9200-plus-wi-fi-7-iqoo-neo8-pro-440.html\n",
            "/news/2023/05/23/geforce-rtx-4060-ti-8gb-nvidia-12.html\n",
            "/news/2023/05/23/10-000-12-2-8-144-44-370-iqoo-pad.html\n",
            "/news/2023/05/23/lexus-tx-mark-levinson.html\n",
            "/news/2023/05/23/27-2-165-185-redmi-gaming-display-g27q.html\n",
            "/news/2023/05/23/gaz-predstavil-novye-versii-sobolja-nn--bizneskupe-s-unikalnymi-salonami.html\n",
            "/news/2023/05/23/lada-niva-2.html\n",
            "/news/2023/05/23/3-0-400-10-lincoln-aviator-2023.html\n",
            "/news/2023/05/23/atlas-l-honor-edition-18-coolray.html\n",
            "/news/2023/05/23/uazy-nachnut-sobirat-na-kube.html\n",
            "/news/2023/05/23/alternativnyj-brauzer-vivaldi-gotov-k-zapusku-na-iphone.html\n",
            "/news/2023/05/23/fsr-3-dlss-3-amd.html\n",
            "/news/2023/05/23/prodavcy-jelektroniki-poluchat-bolshe-deneg-ot-wildberries.html\n",
            "/news/2023/05/23/geely-tugella-200-8.html\n",
            "/news/2023/05/23/xiaomi-pad-6.html\n",
            "/news/2023/05/23/honda-n-wgn-1-37.html\n",
            "/news/2023/05/23/pochemu-alisa-vsjo-vremja-napominaet-pro-remni-bezopasnosti-jandeks-taksi-vpervye-raskryvaet-politiku-bezopasnosti-.html\n",
            "/news/2023/05/23/kupit-uaz-patriot-chtoby-zarabotat-jeto-vpolne-realno-avtostat-nazval-patriot-samym-likvidnym-rossijskim-avtomobilem.html\n",
            "/news/2023/05/23/amoled-90-5000-android-13-miui-14-redmi-note-12s.html\n",
            "/news/2023/05/23/20-21099-1-lada-granta.html\n",
            "/news/2023/05/23/start-prodazh-otsrochen--sobrannye-v-rossii-avtomobili-baic-davno-stojat-v-salonah-no-ne-prodajutsja.html\n",
            "/news/2023/05/23/obnovlennyj-hyundai-tucson-vpervye-zasnjali-vzhivuju.html\n",
            "/news/2023/05/23/intel-amd-instinct-mi300-nvidia-grace-hooper-falcon-shores.html\n",
            "/news/2023/05/23/vmesto-volkswagen-i-skoda-v-nizhegorodskoj-oblasti-naladjat-proizvodstvo-kitajskih-avtomobilej.html\n",
            "/news/2023/05/23/samyj-deshevyj-rossijskij-samolet-iz-novejshih-nazvana-stoimost-lms901bajkal.html\n",
            "/news/2023/05/23/processor-12-0-8-200-chuwi-larkbox-x-2023.html\n",
            "/news/2023/05/23/boeing-boeing-bbj-777-9.html\n",
            "/news/2023/05/23/toyota-camry-kia-k5-dongfeng-shine-max.html\n",
            "/news/2023/05/23/android-1-realme-gt-neo5.html\n",
            "/news/2023/05/23/samsung--snova-pervaja-predstavlen-jekran-dlja-smartfona-kotoryj-izmerjaet-puls-i-davlenie.html\n",
            "/news/2023/05/23/v-jumoney-byvshie-jandeksdengi-vypustili-svoj-platjozhnyj-stiker-dlja-beskontaktnoj-oplaty.html\n",
            "/news/2023/05/23/avtovaz-povysit-zarplaty-sotrudnikam-nesmotrja-na-neprostye-jekonomicheskie-uslovija.html\n",
            "/news/2023/05/23/75-4-440-xiaomi-mi-tv-a75-competitive-edition.html\n",
            "/news/2023/05/23/omoda-5-omoda.html\n",
            "/news/2023/05/23/2-0-8-zf-foton-tunland-200.html\n",
            "/news/2023/05/23/volkswagen-touareg-2024.html\n",
            "/news/2023/05/23/radeon-rx-7600.html\n",
            "/news/2023/05/23/priznajus-my-skopirovali-ideju-u-boevyh-dronov-inostrannogo-proizvodstva-v-rossii-predstavili-linejku-universalnyh.html\n",
            "/news/2023/05/23/analogov-net-v-rossii-sozdan-umnyj-introskop-s-iskusstvennym-intellektom.html\n",
            "/news/2023/05/23/mercedes-amg-1400-mercedes-amg-e-scooter-2024.html\n",
            "/news/2023/05/23/rostelekom-podtverdil-sboj-v-rabote-i-objasnil-v-chjom-prichina.html\n",
            "/news/2023/05/23/70-3-1-xiaomi-mijia-smart-evaporative-cooling-fan.html\n",
            "/news/2023/05/23/tinkoff-nachal-vypuskat-karty-platjozhnoj-sistemy-unionpay-gde-ih-primut-a-gde-net.html\n",
            "/news/2023/05/23/amoled-1-83-spo2-12-55-redmi-watch-3-lite.html\n",
            "/news/2023/05/23/iphone-15-pro-max-iphone-16-pro.html\n",
            "/news/2023/05/23/toyota-camry-toyota-avalon.html\n",
            "/news/2023/05/23/chery-kaiyi-e5.html\n",
            "/news/2023/05/23/banki-rf-vypustili-okolo-1-mln-platezhnyh-stikerov-tinkoff-bank-zanimaet-polovinu-rynka.html\n",
            "/news/2023/05/23/sborku-rossijskih-avtomobilej-mogut-naladit-v-jefiopii.html\n",
            "/news/2023/05/23/zavod-lada-sanktpeterburg-kotorye-budet-vypuskat-novye-lada-budet-zapushen-14-ijunja.html\n",
            "/news/2023/05/23/izvestija-magaziny-zabity-iphone-ceny-padajut.html\n",
            "/news/2023/05/23/toyota-land-cruiser-tank-300.html\n",
            "/news/2023/05/23/avtovazu-predlozhili-otkazatsja-ot-dilerov-jeto-pozvolit-snizit-cenu-lada.html\n",
            "/news/2023/05/23/830-4-cadillac-escalade.html\n",
            "/news/2023/05/23/mercedes-benz-190-e.html\n",
            "/news/2023/05/23/jeto-oppo-k11x-kompanija-pokazala-novyj-smartfon-pered-anonsom.html\n",
            "/news/2023/05/23/redmi-k60-1.html\n",
            "/news/2023/05/23/polzovateli-rostelekoma-massovo-soobshajut-o-sbojah.html\n",
            "/news/2023/05/23/great-wall-motors-haval-hi4-2024.html\n",
            "/news/2023/05/23/byd-han-dm-2023-6000.html\n",
            "/news/2023/05/23/nio-es6-2023.html\n",
            "/news/2023/05/23/4-v8-1400-hongqi-s9.html\n",
            "/news/2023/05/23/hyundai-solaris-kia-rio-chery-tiggo-lada-granta-geely-coolray-chery.html\n",
            "/news/2023/05/23/neoficialnyj-trejler-gta-6-sozdannyj-po-utechkam-vysoko-ocenili-poklonniki-serii.html\n",
            "/news/2023/05/23/predstavlen-kozhanyj-plastyr-hermes-dlja-kamery-noutbuka-i-ne-tolko.html\n",
            "/news/2023/05/23/lada-vesta-ng-16.html\n"
          ]
        }
      ]
    },
    {
      "cell_type": "code",
      "source": [
        "print(IXBTNewsLinks)"
      ],
      "metadata": {
        "colab": {
          "base_uri": "https://localhost:8080/"
        },
        "id": "NDF5ThN3QIPC",
        "outputId": "173c86d6-ccb5-4bb6-bf1b-d0e69835baa9"
      },
      "execution_count": 11,
      "outputs": [
        {
          "output_type": "stream",
          "name": "stdout",
          "text": [
            "['https://www.ixbt.com/news/2023/05/23/winrar-windows-11-tar-7-zip-rar-gz.html', 'https://www.ixbt.com/news/2023/05/23/xiaomi-civi-3.html', 'https://www.ixbt.com/news/2023/05/23/amazon-predstavila-svoj-samyj-bolshoj-proizvoditelnyj-i-dorogoj-planshet.html', 'https://www.ixbt.com/news/2023/05/23/apple-final-cut-pro-logic-pro-ipad.html', 'https://www.ixbt.com/news/2023/05/23/microsoft-chatgpt-windows-11.html', 'https://www.ixbt.com/news/2023/05/23/mnogie-prakticheski-ne-vypuskajut-smartfon-iz-ruk-tret-rossijan-bojatsja-poterjat-smartfon-i-ispytyvajut-fantomnye.html', 'https://www.ixbt.com/news/2023/05/23/amd-cpu-ryzen-athlon-7020c-series.html', 'https://www.ixbt.com/news/2023/05/23/radeon-rx-7600-270-34-rx-6600.html', 'https://www.ixbt.com/news/2023/05/23/5000-120-1-5-144-dimensity-9200-plus-wi-fi-7-iqoo-neo8-pro-440.html', 'https://www.ixbt.com/news/2023/05/23/geforce-rtx-4060-ti-8gb-nvidia-12.html', 'https://www.ixbt.com/news/2023/05/23/10-000-12-2-8-144-44-370-iqoo-pad.html', 'https://www.ixbt.com/news/2023/05/23/lexus-tx-mark-levinson.html', 'https://www.ixbt.com/news/2023/05/23/27-2-165-185-redmi-gaming-display-g27q.html', 'https://www.ixbt.com/news/2023/05/23/gaz-predstavil-novye-versii-sobolja-nn--bizneskupe-s-unikalnymi-salonami.html', 'https://www.ixbt.com/news/2023/05/23/lada-niva-2.html', 'https://www.ixbt.com/news/2023/05/23/3-0-400-10-lincoln-aviator-2023.html', 'https://www.ixbt.com/news/2023/05/23/atlas-l-honor-edition-18-coolray.html', 'https://www.ixbt.com/news/2023/05/23/uazy-nachnut-sobirat-na-kube.html', 'https://www.ixbt.com/news/2023/05/23/alternativnyj-brauzer-vivaldi-gotov-k-zapusku-na-iphone.html', 'https://www.ixbt.com/news/2023/05/23/fsr-3-dlss-3-amd.html', 'https://www.ixbt.com/news/2023/05/23/prodavcy-jelektroniki-poluchat-bolshe-deneg-ot-wildberries.html', 'https://www.ixbt.com/news/2023/05/23/geely-tugella-200-8.html', 'https://www.ixbt.com/news/2023/05/23/xiaomi-pad-6.html', 'https://www.ixbt.com/news/2023/05/23/honda-n-wgn-1-37.html', 'https://www.ixbt.com/news/2023/05/23/pochemu-alisa-vsjo-vremja-napominaet-pro-remni-bezopasnosti-jandeks-taksi-vpervye-raskryvaet-politiku-bezopasnosti-.html', 'https://www.ixbt.com/news/2023/05/23/kupit-uaz-patriot-chtoby-zarabotat-jeto-vpolne-realno-avtostat-nazval-patriot-samym-likvidnym-rossijskim-avtomobilem.html', 'https://www.ixbt.com/news/2023/05/23/amoled-90-5000-android-13-miui-14-redmi-note-12s.html', 'https://www.ixbt.com/news/2023/05/23/20-21099-1-lada-granta.html', 'https://www.ixbt.com/news/2023/05/23/start-prodazh-otsrochen--sobrannye-v-rossii-avtomobili-baic-davno-stojat-v-salonah-no-ne-prodajutsja.html', 'https://www.ixbt.com/news/2023/05/23/obnovlennyj-hyundai-tucson-vpervye-zasnjali-vzhivuju.html', 'https://www.ixbt.com/news/2023/05/23/intel-amd-instinct-mi300-nvidia-grace-hooper-falcon-shores.html', 'https://www.ixbt.com/news/2023/05/23/vmesto-volkswagen-i-skoda-v-nizhegorodskoj-oblasti-naladjat-proizvodstvo-kitajskih-avtomobilej.html', 'https://www.ixbt.com/news/2023/05/23/samyj-deshevyj-rossijskij-samolet-iz-novejshih-nazvana-stoimost-lms901bajkal.html', 'https://www.ixbt.com/news/2023/05/23/processor-12-0-8-200-chuwi-larkbox-x-2023.html', 'https://www.ixbt.com/news/2023/05/23/boeing-boeing-bbj-777-9.html', 'https://www.ixbt.com/news/2023/05/23/toyota-camry-kia-k5-dongfeng-shine-max.html', 'https://www.ixbt.com/news/2023/05/23/android-1-realme-gt-neo5.html', 'https://www.ixbt.com/news/2023/05/23/samsung--snova-pervaja-predstavlen-jekran-dlja-smartfona-kotoryj-izmerjaet-puls-i-davlenie.html', 'https://www.ixbt.com/news/2023/05/23/v-jumoney-byvshie-jandeksdengi-vypustili-svoj-platjozhnyj-stiker-dlja-beskontaktnoj-oplaty.html', 'https://www.ixbt.com/news/2023/05/23/avtovaz-povysit-zarplaty-sotrudnikam-nesmotrja-na-neprostye-jekonomicheskie-uslovija.html', 'https://www.ixbt.com/news/2023/05/23/75-4-440-xiaomi-mi-tv-a75-competitive-edition.html', 'https://www.ixbt.com/news/2023/05/23/omoda-5-omoda.html', 'https://www.ixbt.com/news/2023/05/23/2-0-8-zf-foton-tunland-200.html', 'https://www.ixbt.com/news/2023/05/23/volkswagen-touareg-2024.html', 'https://www.ixbt.com/news/2023/05/23/radeon-rx-7600.html', 'https://www.ixbt.com/news/2023/05/23/priznajus-my-skopirovali-ideju-u-boevyh-dronov-inostrannogo-proizvodstva-v-rossii-predstavili-linejku-universalnyh.html', 'https://www.ixbt.com/news/2023/05/23/analogov-net-v-rossii-sozdan-umnyj-introskop-s-iskusstvennym-intellektom.html', 'https://www.ixbt.com/news/2023/05/23/mercedes-amg-1400-mercedes-amg-e-scooter-2024.html', 'https://www.ixbt.com/news/2023/05/23/rostelekom-podtverdil-sboj-v-rabote-i-objasnil-v-chjom-prichina.html', 'https://www.ixbt.com/news/2023/05/23/70-3-1-xiaomi-mijia-smart-evaporative-cooling-fan.html', 'https://www.ixbt.com/news/2023/05/23/tinkoff-nachal-vypuskat-karty-platjozhnoj-sistemy-unionpay-gde-ih-primut-a-gde-net.html', 'https://www.ixbt.com/news/2023/05/23/amoled-1-83-spo2-12-55-redmi-watch-3-lite.html', 'https://www.ixbt.com/news/2023/05/23/iphone-15-pro-max-iphone-16-pro.html', 'https://www.ixbt.com/news/2023/05/23/toyota-camry-toyota-avalon.html', 'https://www.ixbt.com/news/2023/05/23/chery-kaiyi-e5.html', 'https://www.ixbt.com/news/2023/05/23/banki-rf-vypustili-okolo-1-mln-platezhnyh-stikerov-tinkoff-bank-zanimaet-polovinu-rynka.html', 'https://www.ixbt.com/news/2023/05/23/sborku-rossijskih-avtomobilej-mogut-naladit-v-jefiopii.html', 'https://www.ixbt.com/news/2023/05/23/zavod-lada-sanktpeterburg-kotorye-budet-vypuskat-novye-lada-budet-zapushen-14-ijunja.html', 'https://www.ixbt.com/news/2023/05/23/izvestija-magaziny-zabity-iphone-ceny-padajut.html', 'https://www.ixbt.com/news/2023/05/23/toyota-land-cruiser-tank-300.html', 'https://www.ixbt.com/news/2023/05/23/avtovazu-predlozhili-otkazatsja-ot-dilerov-jeto-pozvolit-snizit-cenu-lada.html', 'https://www.ixbt.com/news/2023/05/23/830-4-cadillac-escalade.html', 'https://www.ixbt.com/news/2023/05/23/mercedes-benz-190-e.html', 'https://www.ixbt.com/news/2023/05/23/jeto-oppo-k11x-kompanija-pokazala-novyj-smartfon-pered-anonsom.html', 'https://www.ixbt.com/news/2023/05/23/redmi-k60-1.html', 'https://www.ixbt.com/news/2023/05/23/polzovateli-rostelekoma-massovo-soobshajut-o-sbojah.html', 'https://www.ixbt.com/news/2023/05/23/great-wall-motors-haval-hi4-2024.html', 'https://www.ixbt.com/news/2023/05/23/byd-han-dm-2023-6000.html', 'https://www.ixbt.com/news/2023/05/23/nio-es6-2023.html', 'https://www.ixbt.com/news/2023/05/23/4-v8-1400-hongqi-s9.html', 'https://www.ixbt.com/news/2023/05/23/hyundai-solaris-kia-rio-chery-tiggo-lada-granta-geely-coolray-chery.html', 'https://www.ixbt.com/news/2023/05/23/neoficialnyj-trejler-gta-6-sozdannyj-po-utechkam-vysoko-ocenili-poklonniki-serii.html', 'https://www.ixbt.com/news/2023/05/23/predstavlen-kozhanyj-plastyr-hermes-dlja-kamery-noutbuka-i-ne-tolko.html', 'https://www.ixbt.com/news/2023/05/23/lada-vesta-ng-16.html']\n"
          ]
        }
      ]
    },
    {
      "cell_type": "markdown",
      "source": [
        "## Разберём одну статью"
      ],
      "metadata": {
        "id": "YfkO7kiJT28j"
      }
    },
    {
      "cell_type": "code",
      "source": [],
      "metadata": {
        "id": "7mQ1ZkF5T2kW"
      },
      "execution_count": 17,
      "outputs": []
    },
    {
      "cell_type": "code",
      "source": [
        "IXBTTestNews = IXBTNewsLinks[1]\n",
        "IXBTTestNewsResp = requests.get(IXBTTestNews)"
      ],
      "metadata": {
        "id": "mOsd23HosmtD"
      },
      "execution_count": 18,
      "outputs": []
    },
    {
      "cell_type": "code",
      "source": [
        "IXBTTestH1 = BeautifulSoup(IXBTTestNewsResp.text, \"html5lib\").find_all(\"h1\") # , {\"class\": \"item__text--title\"}"
      ],
      "metadata": {
        "id": "EAY8w1vksu4t"
      },
      "execution_count": 19,
      "outputs": []
    },
    {
      "cell_type": "markdown",
      "source": [
        "### Здесь выведем заголовки"
      ],
      "metadata": {
        "id": "FQMa6gZFGi-6"
      }
    },
    {
      "cell_type": "code",
      "source": [
        "IXBTTestSoup = BeautifulSoup(IXBTTestNewsResp.text)\n",
        "print(IXBTTestSoup.h1.string)\n",
        "print(IXBTTestSoup.h4.string)\n"
      ],
      "metadata": {
        "colab": {
          "base_uri": "https://localhost:8080/"
        },
        "id": "B-Njs2KWzJC-",
        "outputId": "93f31824-6187-4279-c1aa-abd5646b4d4a"
      },
      "execution_count": 20,
      "outputs": [
        {
          "output_type": "stream",
          "name": "stdout",
          "text": [
            "По-прежнему тонкий, по-прежнему лёгкий и с улучшенными камерами. Новые подробности о Xiaomi Civi 3 и примеры фото\n",
            "Главный датчик основной камеры такой же, как у Xiaomi 13\n"
          ]
        }
      ]
    },
    {
      "cell_type": "markdown",
      "source": [
        "### здесь выведем текст новости или статьи"
      ],
      "metadata": {
        "id": "MGzxKk1lGnuB"
      }
    },
    {
      "cell_type": "code",
      "source": [
        "IXBTTestArticleMain = BeautifulSoup(IXBTTestNewsResp.text, \"html5lib\").find_all(\"div\", {\"id\":\"main-pagecontent__div\"})"
      ],
      "metadata": {
        "id": "oYBv7bEdzxO3"
      },
      "execution_count": 21,
      "outputs": []
    },
    {
      "cell_type": "code",
      "source": [
        "IXBTTestResText = []\n",
        "IXBTTestResString = \"\"\n",
        "for paragraph in IXBTTestArticleMain:\n",
        "  print(paragraph.text)\n",
        "  IXBTTestResString = IXBTTestResString + paragraph.text\n",
        "  paragraph.findAll(\"p\")\n",
        "  IXBTTestResText.append(paragraph.find_all(\"p\"))"
      ],
      "metadata": {
        "id": "rk57FyXotWrv"
      },
      "execution_count": null,
      "outputs": []
    },
    {
      "cell_type": "code",
      "source": [
        "IXBTTestResText"
      ],
      "metadata": {
        "colab": {
          "base_uri": "https://localhost:8080/"
        },
        "id": "NNCB8HKP1cre",
        "outputId": "03188103-e87e-4066-9fd2-87cb18f58f77"
      },
      "execution_count": 23,
      "outputs": [
        {
          "output_type": "execute_result",
          "data": {
            "text/plain": [
              "[[<p>Официальная премьера «стильного» смартфона Xiaomi Civi 3 состоится 25 мая, но сегодня Xiaomi раскрыла о нём много подробностей.</p>,\n",
              "  <p>Уже известно, что толщина Civi 3 составит 7,56 мм, а масса — 173,5 грамма. То есть Xiaomi остаётся верна себе: аппарат, как и его предшественники, будет довольно тонким и лёгким.</p>,\n",
              "  <p>При этом камеры улучшатся. Во фронтальной — два сенсора одинакового разрешения 32 Мп, а основной сенсор главной камеры — 50-мегапиксельный Sony IMX800 — точно такой же, как у Xiaomi 13. В главном модуле будет оптическая стабилизация изображения и светосильный объектив с диафрагмой F/1,77. А вот так выглядят фото, сделанные при помощи основной и фронтальной камер Xiaomi Civi 3.</p>,\n",
              "  <p>По предварительным данным, Xiaomi Civi 3 получит экран с кадровой частотой 120 Гц, пластиковую боковую рамку, аккумулятор ёмкостью 4500 мА·ч и поддержку зарядки мощностью 67 Вт.</p>]]"
            ]
          },
          "metadata": {},
          "execution_count": 23
        }
      ]
    },
    {
      "cell_type": "code",
      "source": [
        "IXBTTestResString"
      ],
      "metadata": {
        "colab": {
          "base_uri": "https://localhost:8080/",
          "height": 125
        },
        "id": "81JqGSlp3ZCu",
        "outputId": "55e38f56-8359-422d-ed56-23122b303077"
      },
      "execution_count": 24,
      "outputs": [
        {
          "output_type": "execute_result",
          "data": {
            "text/plain": [
              "'\\n                        Официальная премьера «стильного» смартфона Xiaomi Civi 3 состоится 25 мая, но сегодня Xiaomi раскрыла о нём много подробностей.\\n\\n\\n\\n\\n\\n\\n\\n\\nУже известно, что толщина Civi 3 составит 7,56 мм, а масса — 173,5 грамма. То есть Xiaomi остаётся верна себе: аппарат, как и его предшественники, будет довольно тонким и лёгким.\\n\\n\\n\\n\\n\\n\\n\\n\\n\\n\\n\\n\\n\\n\\n\\n\\nПри этом камеры улучшатся. Во фронтальной — два сенсора одинакового разрешения 32 Мп, а основной сенсор главной камеры — 50-мегапиксельный Sony IMX800 — точно такой же, как у Xiaomi 13. В главном модуле будет оптическая стабилизация изображения и светосильный объектив с диафрагмой F/1,77. А вот так выглядят фото, сделанные при помощи основной и фронтальной камер Xiaomi Civi 3.\\n\\n\\n\\n\\n\\n\\n\\n\\n\\n\\n\\n\\n\\n\\n\\n\\n\\n\\n\\n\\n\\n\\n\\n\\n\\n\\n\\n\\n\\n\\n\\n\\n\\n\\n\\n\\n\\n\\n\\n\\n\\nПо предварительным данным, Xiaomi Civi 3 получит экран с кадровой частотой 120 Гц, пластиковую боковую рамку, аккумулятор ёмкостью 4500 мА·ч и поддержку зарядки мощностью 67 Вт.                    '"
            ],
            "application/vnd.google.colaboratory.intrinsic+json": {
              "type": "string"
            }
          },
          "metadata": {},
          "execution_count": 24
        }
      ]
    },
    {
      "cell_type": "markdown",
      "source": [
        "Убираем лишние символы"
      ],
      "metadata": {
        "id": "5NSWC_6_G2Zj"
      }
    },
    {
      "cell_type": "code",
      "source": [
        "prevSymb = ''\n",
        "IXBTTestNewResString = \"\"\n",
        "for symb in IXBTTestResString:\n",
        "  if symb == '\\n':\n",
        "    continue\n",
        "  if symb == '\\xa0':\n",
        "    symb = ' '\n",
        "    # continue\n",
        "  if prevSymb == symb:\n",
        "    continue\n",
        "  if symb == ' ':\n",
        "    prevSymb = symb\n",
        "  if prevSymb != symb:\n",
        "    prevSymb = ''\n",
        "  # print(symb)\n",
        "  IXBTTestNewResString = IXBTTestNewResString + symb"
      ],
      "metadata": {
        "id": "mdq0hax55-Iz"
      },
      "execution_count": 25,
      "outputs": []
    },
    {
      "cell_type": "code",
      "source": [
        "IXBTTestNewResString"
      ],
      "metadata": {
        "colab": {
          "base_uri": "https://localhost:8080/",
          "height": 107
        },
        "id": "dMvnc5T37Tgs",
        "outputId": "ce869d32-8c91-44bf-e29d-12fb8e63507e"
      },
      "execution_count": 26,
      "outputs": [
        {
          "output_type": "execute_result",
          "data": {
            "text/plain": [
              "' Официальная премьера «стильного» смартфона Xiaomi Civi 3 состоится 25 мая, но сегодня Xiaomi раскрыла о нём много подробностей.Уже известно, что толщина Civi 3 составит 7,56 мм, а масса — 173,5 грамма. То есть Xiaomi остаётся верна себе: аппарат, как и его предшественники, будет довольно тонким и лёгким.При этом камеры улучшатся. Во фронтальной — два сенсора одинакового разрешения 32 Мп, а основной сенсор главной камеры — 50-мегапиксельный Sony IMX800 — точно такой же, как у Xiaomi 13. В главном модуле будет оптическая стабилизация изображения и светосильный объектив с диафрагмой F/1,77. А вот так выглядят фото, сделанные при помощи основной и фронтальной камер Xiaomi Civi 3.По предварительным данным, Xiaomi Civi 3 получит экран с кадровой частотой 120 Гц, пластиковую боковую рамку, аккумулятор ёмкостью 4500 мА·ч и поддержку зарядки мощностью 67 Вт. '"
            ],
            "application/vnd.google.colaboratory.intrinsic+json": {
              "type": "string"
            }
          },
          "metadata": {},
          "execution_count": 26
        }
      ]
    },
    {
      "cell_type": "code",
      "source": [
        "for i in IXBTTestResText:\n",
        "  print()"
      ],
      "metadata": {
        "colab": {
          "base_uri": "https://localhost:8080/"
        },
        "id": "r3SfaVNB2Kgc",
        "outputId": "21c4eae2-88de-4f2a-fea2-ee1a4b5f24e9"
      },
      "execution_count": 27,
      "outputs": [
        {
          "output_type": "stream",
          "name": "stdout",
          "text": [
            "\n"
          ]
        }
      ]
    },
    {
      "cell_type": "markdown",
      "source": [
        "## Разберём пакет статей"
      ],
      "metadata": {
        "id": "kkpvnE23sXDr"
      }
    },
    {
      "cell_type": "code",
      "source": [
        "import time\n",
        "for link in IXBTNewsLinks:\n",
        "  NewsResp = requests.get(link)\n",
        "  time.sleep(1/2)"
      ],
      "metadata": {
        "colab": {
          "base_uri": "https://localhost:8080/",
          "height": 204
        },
        "id": "lsVgRApxQbr7",
        "outputId": "b9824740-9b6f-4607-dda0-3d064bb2bb87"
      },
      "execution_count": null,
      "outputs": [
        {
          "output_type": "error",
          "ename": "KeyboardInterrupt",
          "evalue": "ignored",
          "traceback": [
            "\u001b[0;31m---------------------------------------------------------------------------\u001b[0m",
            "\u001b[0;31mKeyboardInterrupt\u001b[0m                         Traceback (most recent call last)",
            "\u001b[0;32m<ipython-input-12-0fb005b787cf>\u001b[0m in \u001b[0;36m<cell line: 2>\u001b[0;34m()\u001b[0m\n\u001b[1;32m      2\u001b[0m \u001b[0;32mfor\u001b[0m \u001b[0mlink\u001b[0m \u001b[0;32min\u001b[0m \u001b[0mIXBTNewsLinks\u001b[0m\u001b[0;34m:\u001b[0m\u001b[0;34m\u001b[0m\u001b[0;34m\u001b[0m\u001b[0m\n\u001b[1;32m      3\u001b[0m   \u001b[0mNewsResp\u001b[0m \u001b[0;34m=\u001b[0m \u001b[0mrequests\u001b[0m\u001b[0;34m.\u001b[0m\u001b[0mget\u001b[0m\u001b[0;34m(\u001b[0m\u001b[0mlink\u001b[0m\u001b[0;34m)\u001b[0m\u001b[0;34m\u001b[0m\u001b[0;34m\u001b[0m\u001b[0m\n\u001b[0;32m----> 4\u001b[0;31m   \u001b[0mtime\u001b[0m\u001b[0;34m.\u001b[0m\u001b[0msleep\u001b[0m\u001b[0;34m(\u001b[0m\u001b[0;36m1\u001b[0m\u001b[0;34m/\u001b[0m\u001b[0;36m2\u001b[0m\u001b[0;34m)\u001b[0m\u001b[0;34m\u001b[0m\u001b[0;34m\u001b[0m\u001b[0m\n\u001b[0m",
            "\u001b[0;31mKeyboardInterrupt\u001b[0m: "
          ]
        }
      ]
    }
  ]
}